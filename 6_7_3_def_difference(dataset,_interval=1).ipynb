{
  "nbformat": 4,
  "nbformat_minor": 5,
  "metadata": {
    "kernelspec": {
      "display_name": "Python 3",
      "language": "python",
      "name": "python3"
    },
    "language_info": {
      "codemirror_mode": {
        "name": "ipython",
        "version": 3
      },
      "file_extension": ".py",
      "mimetype": "text/x-python",
      "name": "python",
      "nbconvert_exporter": "python",
      "pygments_lexer": "ipython3",
      "version": "3.8.8"
    },
    "colab": {
      "name": "6.7.3 def difference(dataset, interval=1)",
      "provenance": [],
      "collapsed_sections": [],
      "include_colab_link": true
    }
  },
  "cells": [
    {
      "cell_type": "markdown",
      "metadata": {
        "id": "view-in-github",
        "colab_type": "text"
      },
      "source": [
        "<a href=\"https://colab.research.google.com/github/HugoStigletz/Data-Analytics-Portfolio/blob/main/6_7_3_def_difference(dataset%2C_interval%3D1).ipynb\" target=\"_parent\"><img src=\"https://colab.research.google.com/assets/colab-badge.svg\" alt=\"Open In Colab\"/></a>"
      ]
    },
    {
      "cell_type": "markdown",
      "metadata": {
        "id": "bc6d18a1"
      },
      "source": [
        "# Lesson: Stationary Processes\n",
        "\n",
        "In this activity, you will determine if the California Wildfires time series data is stationary.  If it is not, you will see if a transformation can remove some of the trend over time. "
      ],
      "id": "bc6d18a1"
    },
    {
      "cell_type": "markdown",
      "metadata": {
        "id": "YVDbdDBDQVoS"
      },
      "source": [
        "#Step 1: Download and Save the `CA_Wildfires.csv` Dataset From the Class Materials  \n",
        "\n",
        "* Make a note of where you saved the file on your computer."
      ],
      "id": "YVDbdDBDQVoS"
    },
    {
      "cell_type": "markdown",
      "metadata": {
        "id": "63UbfVKeQfsl"
      },
      "source": [
        "#Step 2: Upload the `CA_Wildfires.csv` Dataset by Running the Following Code Block \n",
        "\n",
        "* When prompted, navigate to and select the `CA_Wildfires.csv` dataset where you saved it on your computer.\n",
        "* This is a pretty large dataset, so it may take a little while."
      ],
      "id": "63UbfVKeQfsl"
    },
    {
      "cell_type": "code",
      "metadata": {
        "id": "bxSC_MgQQUis"
      },
      "source": [
        "#Step 2\n",
        "\n",
        "from google.colab import files\n",
        "heights = files.upload()"
      ],
      "execution_count": null,
      "outputs": [],
      "id": "bxSC_MgQQUis"
    },
    {
      "cell_type": "markdown",
      "metadata": {
        "id": "8ea92563"
      },
      "source": [
        "## Step 3: Import Required Libraries \n",
        "\n",
        "Import `pandas as pd` the `pyplot` module from `matplotlib as plt` and `datetime`."
      ],
      "id": "8ea92563"
    },
    {
      "cell_type": "code",
      "metadata": {
        "id": "6bde286d"
      },
      "source": [
        "#Step 3\n",
        "import pandas as pd\n",
        "import matplotlib.pyplot as plt\n",
        "import datetime\n",
        "\n"
      ],
      "id": "6bde286d",
      "execution_count": 1,
      "outputs": []
    },
    {
      "cell_type": "markdown",
      "metadata": {
        "id": "fce2187e"
      },
      "source": [
        "# Step 4: Read the CSV File and Get Column and Row Information \n",
        "\n",
        "Create a DataFrame called `Fires` from the `CA_Wildfires.csv`. Call the `.info()` function to review the columns and their datatypes."
      ],
      "id": "fce2187e"
    },
    {
      "cell_type": "code",
      "metadata": {
        "id": "223e7b68"
      },
      "source": [
        "#Step 4\n",
        "Fires = pd.read_csv('/content/6.6.2 & 6.6.3 CA_wildfires.csv')\n"
      ],
      "id": "223e7b68",
      "execution_count": 3,
      "outputs": []
    },
    {
      "cell_type": "code",
      "source": [
        "Fires"
      ],
      "metadata": {
        "colab": {
          "base_uri": "https://localhost:8080/",
          "height": 592
        },
        "id": "XDoMtT-fjTSr",
        "outputId": "f7646442-f1cc-4a1e-8c25-21ba3b4c4e2c"
      },
      "id": "XDoMtT-fjTSr",
      "execution_count": 5,
      "outputs": [
        {
          "output_type": "execute_result",
          "data": {
            "text/plain": [
              "            SOURCE_REPORTING_UNIT_NAME  FIRE_YEAR  FIRE_SIZE   LONGITUDE  \\\n",
              "0             Eldorado National Forest       2004        0.1 -119.913333   \n",
              "1             Eldorado National Forest       2004        0.1 -119.933056   \n",
              "2             Eldorado National Forest       2004    16823.0 -120.211667   \n",
              "3             Eldorado National Forest       2004     7700.0 -120.260000   \n",
              "4     Humboldt-Toiyabe National Forest       2005        0.1 -119.840556   \n",
              "...                                ...        ...        ...         ...   \n",
              "5769                 Lassen-Modoc Unit       2010        0.1 -120.580424   \n",
              "5770        CDF - Merced-Mariposa Unit       2014      480.0 -120.191168   \n",
              "5771                       Tulare Unit       2014        0.1 -118.857999   \n",
              "5772               Shasta-Trinity Unit       2015       30.0 -122.397660   \n",
              "5773           Humboldt-Del Norte Unit       2015        4.0 -123.544167   \n",
              "\n",
              "       LATITUDE  DISCOVERY_DATE  DISCOVERY_DOY  DISCOVERY_TIME  \\\n",
              "0     38.559167       2453184.5            180          1600.0   \n",
              "1     38.559167       2453184.5            180          1600.0   \n",
              "2     38.523333       2453284.5            280          1415.0   \n",
              "3     38.780000       2453291.5            287          1618.0   \n",
              "4     38.700278       2453496.5            126          1145.0   \n",
              "...         ...             ...            ...             ...   \n",
              "5769  41.273543       2455402.5            206          1520.0   \n",
              "5770  37.600389       2456814.5            157          1728.0   \n",
              "5771  36.032229       2456841.5            184           834.0   \n",
              "5772  40.469090       2457232.5            210          1745.0   \n",
              "5773  40.244833       2457235.5            213          1331.0   \n",
              "\n",
              "      STAT_CAUSE_CODE   STAT_CAUSE_DESCR  CONT_DATE  CONT_DOY  CONT_TIME  \\\n",
              "0                   1          Lightning  2453189.5     185.0     1400.0   \n",
              "1                   1          Lightning  2453189.5     185.0     1200.0   \n",
              "2                   2      Equipment Use  2453299.5     295.0     1000.0   \n",
              "3                   2      Equipment Use  2453295.5     291.0     1800.0   \n",
              "4                   5     Debris Burning  2453499.5     129.0     1330.0   \n",
              "...               ...                ...        ...       ...        ...   \n",
              "5769                9      Miscellaneous  2455404.5     208.0     1346.0   \n",
              "5770                2      Equipment Use  2456816.5     159.0     1800.0   \n",
              "5771                7              Arson  2456845.5     188.0     1523.0   \n",
              "5772               13  Missing/Undefined  2457237.5     215.0     1836.0   \n",
              "5773                1          Lightning  2457240.5     218.0     1000.0   \n",
              "\n",
              "                OWNER_DESCR STATE COUNTY  \n",
              "0                      USFS    CA    3.0  \n",
              "1                      USFS    CA    3.0  \n",
              "2                      USFS    CA    5.0  \n",
              "3                      USFS    CA   17.0  \n",
              "4          STATE OR PRIVATE    CA    3.0  \n",
              "...                     ...   ...    ...  \n",
              "5769       STATE OR PRIVATE    CA    NaN  \n",
              "5770  MISSING/NOT SPECIFIED    CA    NaN  \n",
              "5771       STATE OR PRIVATE    CA    NaN  \n",
              "5772       STATE OR PRIVATE    CA    NaN  \n",
              "5773      UNDEFINED FEDERAL    CA    NaN  \n",
              "\n",
              "[5774 rows x 16 columns]"
            ],
            "text/html": [
              "\n",
              "  <div id=\"df-9bca5258-dce0-43e9-8379-a3262af3986d\">\n",
              "    <div class=\"colab-df-container\">\n",
              "      <div>\n",
              "<style scoped>\n",
              "    .dataframe tbody tr th:only-of-type {\n",
              "        vertical-align: middle;\n",
              "    }\n",
              "\n",
              "    .dataframe tbody tr th {\n",
              "        vertical-align: top;\n",
              "    }\n",
              "\n",
              "    .dataframe thead th {\n",
              "        text-align: right;\n",
              "    }\n",
              "</style>\n",
              "<table border=\"1\" class=\"dataframe\">\n",
              "  <thead>\n",
              "    <tr style=\"text-align: right;\">\n",
              "      <th></th>\n",
              "      <th>SOURCE_REPORTING_UNIT_NAME</th>\n",
              "      <th>FIRE_YEAR</th>\n",
              "      <th>FIRE_SIZE</th>\n",
              "      <th>LONGITUDE</th>\n",
              "      <th>LATITUDE</th>\n",
              "      <th>DISCOVERY_DATE</th>\n",
              "      <th>DISCOVERY_DOY</th>\n",
              "      <th>DISCOVERY_TIME</th>\n",
              "      <th>STAT_CAUSE_CODE</th>\n",
              "      <th>STAT_CAUSE_DESCR</th>\n",
              "      <th>CONT_DATE</th>\n",
              "      <th>CONT_DOY</th>\n",
              "      <th>CONT_TIME</th>\n",
              "      <th>OWNER_DESCR</th>\n",
              "      <th>STATE</th>\n",
              "      <th>COUNTY</th>\n",
              "    </tr>\n",
              "  </thead>\n",
              "  <tbody>\n",
              "    <tr>\n",
              "      <th>0</th>\n",
              "      <td>Eldorado National Forest</td>\n",
              "      <td>2004</td>\n",
              "      <td>0.1</td>\n",
              "      <td>-119.913333</td>\n",
              "      <td>38.559167</td>\n",
              "      <td>2453184.5</td>\n",
              "      <td>180</td>\n",
              "      <td>1600.0</td>\n",
              "      <td>1</td>\n",
              "      <td>Lightning</td>\n",
              "      <td>2453189.5</td>\n",
              "      <td>185.0</td>\n",
              "      <td>1400.0</td>\n",
              "      <td>USFS</td>\n",
              "      <td>CA</td>\n",
              "      <td>3.0</td>\n",
              "    </tr>\n",
              "    <tr>\n",
              "      <th>1</th>\n",
              "      <td>Eldorado National Forest</td>\n",
              "      <td>2004</td>\n",
              "      <td>0.1</td>\n",
              "      <td>-119.933056</td>\n",
              "      <td>38.559167</td>\n",
              "      <td>2453184.5</td>\n",
              "      <td>180</td>\n",
              "      <td>1600.0</td>\n",
              "      <td>1</td>\n",
              "      <td>Lightning</td>\n",
              "      <td>2453189.5</td>\n",
              "      <td>185.0</td>\n",
              "      <td>1200.0</td>\n",
              "      <td>USFS</td>\n",
              "      <td>CA</td>\n",
              "      <td>3.0</td>\n",
              "    </tr>\n",
              "    <tr>\n",
              "      <th>2</th>\n",
              "      <td>Eldorado National Forest</td>\n",
              "      <td>2004</td>\n",
              "      <td>16823.0</td>\n",
              "      <td>-120.211667</td>\n",
              "      <td>38.523333</td>\n",
              "      <td>2453284.5</td>\n",
              "      <td>280</td>\n",
              "      <td>1415.0</td>\n",
              "      <td>2</td>\n",
              "      <td>Equipment Use</td>\n",
              "      <td>2453299.5</td>\n",
              "      <td>295.0</td>\n",
              "      <td>1000.0</td>\n",
              "      <td>USFS</td>\n",
              "      <td>CA</td>\n",
              "      <td>5.0</td>\n",
              "    </tr>\n",
              "    <tr>\n",
              "      <th>3</th>\n",
              "      <td>Eldorado National Forest</td>\n",
              "      <td>2004</td>\n",
              "      <td>7700.0</td>\n",
              "      <td>-120.260000</td>\n",
              "      <td>38.780000</td>\n",
              "      <td>2453291.5</td>\n",
              "      <td>287</td>\n",
              "      <td>1618.0</td>\n",
              "      <td>2</td>\n",
              "      <td>Equipment Use</td>\n",
              "      <td>2453295.5</td>\n",
              "      <td>291.0</td>\n",
              "      <td>1800.0</td>\n",
              "      <td>USFS</td>\n",
              "      <td>CA</td>\n",
              "      <td>17.0</td>\n",
              "    </tr>\n",
              "    <tr>\n",
              "      <th>4</th>\n",
              "      <td>Humboldt-Toiyabe National Forest</td>\n",
              "      <td>2005</td>\n",
              "      <td>0.1</td>\n",
              "      <td>-119.840556</td>\n",
              "      <td>38.700278</td>\n",
              "      <td>2453496.5</td>\n",
              "      <td>126</td>\n",
              "      <td>1145.0</td>\n",
              "      <td>5</td>\n",
              "      <td>Debris Burning</td>\n",
              "      <td>2453499.5</td>\n",
              "      <td>129.0</td>\n",
              "      <td>1330.0</td>\n",
              "      <td>STATE OR PRIVATE</td>\n",
              "      <td>CA</td>\n",
              "      <td>3.0</td>\n",
              "    </tr>\n",
              "    <tr>\n",
              "      <th>...</th>\n",
              "      <td>...</td>\n",
              "      <td>...</td>\n",
              "      <td>...</td>\n",
              "      <td>...</td>\n",
              "      <td>...</td>\n",
              "      <td>...</td>\n",
              "      <td>...</td>\n",
              "      <td>...</td>\n",
              "      <td>...</td>\n",
              "      <td>...</td>\n",
              "      <td>...</td>\n",
              "      <td>...</td>\n",
              "      <td>...</td>\n",
              "      <td>...</td>\n",
              "      <td>...</td>\n",
              "      <td>...</td>\n",
              "    </tr>\n",
              "    <tr>\n",
              "      <th>5769</th>\n",
              "      <td>Lassen-Modoc Unit</td>\n",
              "      <td>2010</td>\n",
              "      <td>0.1</td>\n",
              "      <td>-120.580424</td>\n",
              "      <td>41.273543</td>\n",
              "      <td>2455402.5</td>\n",
              "      <td>206</td>\n",
              "      <td>1520.0</td>\n",
              "      <td>9</td>\n",
              "      <td>Miscellaneous</td>\n",
              "      <td>2455404.5</td>\n",
              "      <td>208.0</td>\n",
              "      <td>1346.0</td>\n",
              "      <td>STATE OR PRIVATE</td>\n",
              "      <td>CA</td>\n",
              "      <td>NaN</td>\n",
              "    </tr>\n",
              "    <tr>\n",
              "      <th>5770</th>\n",
              "      <td>CDF - Merced-Mariposa Unit</td>\n",
              "      <td>2014</td>\n",
              "      <td>480.0</td>\n",
              "      <td>-120.191168</td>\n",
              "      <td>37.600389</td>\n",
              "      <td>2456814.5</td>\n",
              "      <td>157</td>\n",
              "      <td>1728.0</td>\n",
              "      <td>2</td>\n",
              "      <td>Equipment Use</td>\n",
              "      <td>2456816.5</td>\n",
              "      <td>159.0</td>\n",
              "      <td>1800.0</td>\n",
              "      <td>MISSING/NOT SPECIFIED</td>\n",
              "      <td>CA</td>\n",
              "      <td>NaN</td>\n",
              "    </tr>\n",
              "    <tr>\n",
              "      <th>5771</th>\n",
              "      <td>Tulare Unit</td>\n",
              "      <td>2014</td>\n",
              "      <td>0.1</td>\n",
              "      <td>-118.857999</td>\n",
              "      <td>36.032229</td>\n",
              "      <td>2456841.5</td>\n",
              "      <td>184</td>\n",
              "      <td>834.0</td>\n",
              "      <td>7</td>\n",
              "      <td>Arson</td>\n",
              "      <td>2456845.5</td>\n",
              "      <td>188.0</td>\n",
              "      <td>1523.0</td>\n",
              "      <td>STATE OR PRIVATE</td>\n",
              "      <td>CA</td>\n",
              "      <td>NaN</td>\n",
              "    </tr>\n",
              "    <tr>\n",
              "      <th>5772</th>\n",
              "      <td>Shasta-Trinity Unit</td>\n",
              "      <td>2015</td>\n",
              "      <td>30.0</td>\n",
              "      <td>-122.397660</td>\n",
              "      <td>40.469090</td>\n",
              "      <td>2457232.5</td>\n",
              "      <td>210</td>\n",
              "      <td>1745.0</td>\n",
              "      <td>13</td>\n",
              "      <td>Missing/Undefined</td>\n",
              "      <td>2457237.5</td>\n",
              "      <td>215.0</td>\n",
              "      <td>1836.0</td>\n",
              "      <td>STATE OR PRIVATE</td>\n",
              "      <td>CA</td>\n",
              "      <td>NaN</td>\n",
              "    </tr>\n",
              "    <tr>\n",
              "      <th>5773</th>\n",
              "      <td>Humboldt-Del Norte Unit</td>\n",
              "      <td>2015</td>\n",
              "      <td>4.0</td>\n",
              "      <td>-123.544167</td>\n",
              "      <td>40.244833</td>\n",
              "      <td>2457235.5</td>\n",
              "      <td>213</td>\n",
              "      <td>1331.0</td>\n",
              "      <td>1</td>\n",
              "      <td>Lightning</td>\n",
              "      <td>2457240.5</td>\n",
              "      <td>218.0</td>\n",
              "      <td>1000.0</td>\n",
              "      <td>UNDEFINED FEDERAL</td>\n",
              "      <td>CA</td>\n",
              "      <td>NaN</td>\n",
              "    </tr>\n",
              "  </tbody>\n",
              "</table>\n",
              "<p>5774 rows × 16 columns</p>\n",
              "</div>\n",
              "      <button class=\"colab-df-convert\" onclick=\"convertToInteractive('df-9bca5258-dce0-43e9-8379-a3262af3986d')\"\n",
              "              title=\"Convert this dataframe to an interactive table.\"\n",
              "              style=\"display:none;\">\n",
              "        \n",
              "  <svg xmlns=\"http://www.w3.org/2000/svg\" height=\"24px\"viewBox=\"0 0 24 24\"\n",
              "       width=\"24px\">\n",
              "    <path d=\"M0 0h24v24H0V0z\" fill=\"none\"/>\n",
              "    <path d=\"M18.56 5.44l.94 2.06.94-2.06 2.06-.94-2.06-.94-.94-2.06-.94 2.06-2.06.94zm-11 1L8.5 8.5l.94-2.06 2.06-.94-2.06-.94L8.5 2.5l-.94 2.06-2.06.94zm10 10l.94 2.06.94-2.06 2.06-.94-2.06-.94-.94-2.06-.94 2.06-2.06.94z\"/><path d=\"M17.41 7.96l-1.37-1.37c-.4-.4-.92-.59-1.43-.59-.52 0-1.04.2-1.43.59L10.3 9.45l-7.72 7.72c-.78.78-.78 2.05 0 2.83L4 21.41c.39.39.9.59 1.41.59.51 0 1.02-.2 1.41-.59l7.78-7.78 2.81-2.81c.8-.78.8-2.07 0-2.86zM5.41 20L4 18.59l7.72-7.72 1.47 1.35L5.41 20z\"/>\n",
              "  </svg>\n",
              "      </button>\n",
              "      \n",
              "  <style>\n",
              "    .colab-df-container {\n",
              "      display:flex;\n",
              "      flex-wrap:wrap;\n",
              "      gap: 12px;\n",
              "    }\n",
              "\n",
              "    .colab-df-convert {\n",
              "      background-color: #E8F0FE;\n",
              "      border: none;\n",
              "      border-radius: 50%;\n",
              "      cursor: pointer;\n",
              "      display: none;\n",
              "      fill: #1967D2;\n",
              "      height: 32px;\n",
              "      padding: 0 0 0 0;\n",
              "      width: 32px;\n",
              "    }\n",
              "\n",
              "    .colab-df-convert:hover {\n",
              "      background-color: #E2EBFA;\n",
              "      box-shadow: 0px 1px 2px rgba(60, 64, 67, 0.3), 0px 1px 3px 1px rgba(60, 64, 67, 0.15);\n",
              "      fill: #174EA6;\n",
              "    }\n",
              "\n",
              "    [theme=dark] .colab-df-convert {\n",
              "      background-color: #3B4455;\n",
              "      fill: #D2E3FC;\n",
              "    }\n",
              "\n",
              "    [theme=dark] .colab-df-convert:hover {\n",
              "      background-color: #434B5C;\n",
              "      box-shadow: 0px 1px 3px 1px rgba(0, 0, 0, 0.15);\n",
              "      filter: drop-shadow(0px 1px 2px rgba(0, 0, 0, 0.3));\n",
              "      fill: #FFFFFF;\n",
              "    }\n",
              "  </style>\n",
              "\n",
              "      <script>\n",
              "        const buttonEl =\n",
              "          document.querySelector('#df-9bca5258-dce0-43e9-8379-a3262af3986d button.colab-df-convert');\n",
              "        buttonEl.style.display =\n",
              "          google.colab.kernel.accessAllowed ? 'block' : 'none';\n",
              "\n",
              "        async function convertToInteractive(key) {\n",
              "          const element = document.querySelector('#df-9bca5258-dce0-43e9-8379-a3262af3986d');\n",
              "          const dataTable =\n",
              "            await google.colab.kernel.invokeFunction('convertToInteractive',\n",
              "                                                     [key], {});\n",
              "          if (!dataTable) return;\n",
              "\n",
              "          const docLinkHtml = 'Like what you see? Visit the ' +\n",
              "            '<a target=\"_blank\" href=https://colab.research.google.com/notebooks/data_table.ipynb>data table notebook</a>'\n",
              "            + ' to learn more about interactive tables.';\n",
              "          element.innerHTML = '';\n",
              "          dataTable['output_type'] = 'display_data';\n",
              "          await google.colab.output.renderOutput(dataTable, element);\n",
              "          const docLink = document.createElement('div');\n",
              "          docLink.innerHTML = docLinkHtml;\n",
              "          element.appendChild(docLink);\n",
              "        }\n",
              "      </script>\n",
              "    </div>\n",
              "  </div>\n",
              "  "
            ]
          },
          "metadata": {},
          "execution_count": 5
        }
      ]
    },
    {
      "cell_type": "markdown",
      "metadata": {
        "id": "79EVYW6uu6hC"
      },
      "source": [
        "# Step 5: Determine the Data of Each Fire\n",
        "\n",
        "Run the following code block to format the fire start data correctly."
      ],
      "id": "79EVYW6uu6hC"
    },
    {
      "cell_type": "code",
      "source": [
        "Fires[['FIRE_YEAR', 'DISCOVERY_DOY']].head()"
      ],
      "metadata": {
        "colab": {
          "base_uri": "https://localhost:8080/",
          "height": 206
        },
        "id": "eSKSMoNlj-S4",
        "outputId": "921aae73-c8c9-408b-983c-f5da7e77ac23"
      },
      "id": "eSKSMoNlj-S4",
      "execution_count": 8,
      "outputs": [
        {
          "output_type": "execute_result",
          "data": {
            "text/plain": [
              "   FIRE_YEAR  DISCOVERY_DOY\n",
              "0       2004            180\n",
              "1       2004            180\n",
              "2       2004            280\n",
              "3       2004            287\n",
              "4       2005            126"
            ],
            "text/html": [
              "\n",
              "  <div id=\"df-72b575c0-40af-4871-b1f4-ad8a3d9905cb\">\n",
              "    <div class=\"colab-df-container\">\n",
              "      <div>\n",
              "<style scoped>\n",
              "    .dataframe tbody tr th:only-of-type {\n",
              "        vertical-align: middle;\n",
              "    }\n",
              "\n",
              "    .dataframe tbody tr th {\n",
              "        vertical-align: top;\n",
              "    }\n",
              "\n",
              "    .dataframe thead th {\n",
              "        text-align: right;\n",
              "    }\n",
              "</style>\n",
              "<table border=\"1\" class=\"dataframe\">\n",
              "  <thead>\n",
              "    <tr style=\"text-align: right;\">\n",
              "      <th></th>\n",
              "      <th>FIRE_YEAR</th>\n",
              "      <th>DISCOVERY_DOY</th>\n",
              "    </tr>\n",
              "  </thead>\n",
              "  <tbody>\n",
              "    <tr>\n",
              "      <th>0</th>\n",
              "      <td>2004</td>\n",
              "      <td>180</td>\n",
              "    </tr>\n",
              "    <tr>\n",
              "      <th>1</th>\n",
              "      <td>2004</td>\n",
              "      <td>180</td>\n",
              "    </tr>\n",
              "    <tr>\n",
              "      <th>2</th>\n",
              "      <td>2004</td>\n",
              "      <td>280</td>\n",
              "    </tr>\n",
              "    <tr>\n",
              "      <th>3</th>\n",
              "      <td>2004</td>\n",
              "      <td>287</td>\n",
              "    </tr>\n",
              "    <tr>\n",
              "      <th>4</th>\n",
              "      <td>2005</td>\n",
              "      <td>126</td>\n",
              "    </tr>\n",
              "  </tbody>\n",
              "</table>\n",
              "</div>\n",
              "      <button class=\"colab-df-convert\" onclick=\"convertToInteractive('df-72b575c0-40af-4871-b1f4-ad8a3d9905cb')\"\n",
              "              title=\"Convert this dataframe to an interactive table.\"\n",
              "              style=\"display:none;\">\n",
              "        \n",
              "  <svg xmlns=\"http://www.w3.org/2000/svg\" height=\"24px\"viewBox=\"0 0 24 24\"\n",
              "       width=\"24px\">\n",
              "    <path d=\"M0 0h24v24H0V0z\" fill=\"none\"/>\n",
              "    <path d=\"M18.56 5.44l.94 2.06.94-2.06 2.06-.94-2.06-.94-.94-2.06-.94 2.06-2.06.94zm-11 1L8.5 8.5l.94-2.06 2.06-.94-2.06-.94L8.5 2.5l-.94 2.06-2.06.94zm10 10l.94 2.06.94-2.06 2.06-.94-2.06-.94-.94-2.06-.94 2.06-2.06.94z\"/><path d=\"M17.41 7.96l-1.37-1.37c-.4-.4-.92-.59-1.43-.59-.52 0-1.04.2-1.43.59L10.3 9.45l-7.72 7.72c-.78.78-.78 2.05 0 2.83L4 21.41c.39.39.9.59 1.41.59.51 0 1.02-.2 1.41-.59l7.78-7.78 2.81-2.81c.8-.78.8-2.07 0-2.86zM5.41 20L4 18.59l7.72-7.72 1.47 1.35L5.41 20z\"/>\n",
              "  </svg>\n",
              "      </button>\n",
              "      \n",
              "  <style>\n",
              "    .colab-df-container {\n",
              "      display:flex;\n",
              "      flex-wrap:wrap;\n",
              "      gap: 12px;\n",
              "    }\n",
              "\n",
              "    .colab-df-convert {\n",
              "      background-color: #E8F0FE;\n",
              "      border: none;\n",
              "      border-radius: 50%;\n",
              "      cursor: pointer;\n",
              "      display: none;\n",
              "      fill: #1967D2;\n",
              "      height: 32px;\n",
              "      padding: 0 0 0 0;\n",
              "      width: 32px;\n",
              "    }\n",
              "\n",
              "    .colab-df-convert:hover {\n",
              "      background-color: #E2EBFA;\n",
              "      box-shadow: 0px 1px 2px rgba(60, 64, 67, 0.3), 0px 1px 3px 1px rgba(60, 64, 67, 0.15);\n",
              "      fill: #174EA6;\n",
              "    }\n",
              "\n",
              "    [theme=dark] .colab-df-convert {\n",
              "      background-color: #3B4455;\n",
              "      fill: #D2E3FC;\n",
              "    }\n",
              "\n",
              "    [theme=dark] .colab-df-convert:hover {\n",
              "      background-color: #434B5C;\n",
              "      box-shadow: 0px 1px 3px 1px rgba(0, 0, 0, 0.15);\n",
              "      filter: drop-shadow(0px 1px 2px rgba(0, 0, 0, 0.3));\n",
              "      fill: #FFFFFF;\n",
              "    }\n",
              "  </style>\n",
              "\n",
              "      <script>\n",
              "        const buttonEl =\n",
              "          document.querySelector('#df-72b575c0-40af-4871-b1f4-ad8a3d9905cb button.colab-df-convert');\n",
              "        buttonEl.style.display =\n",
              "          google.colab.kernel.accessAllowed ? 'block' : 'none';\n",
              "\n",
              "        async function convertToInteractive(key) {\n",
              "          const element = document.querySelector('#df-72b575c0-40af-4871-b1f4-ad8a3d9905cb');\n",
              "          const dataTable =\n",
              "            await google.colab.kernel.invokeFunction('convertToInteractive',\n",
              "                                                     [key], {});\n",
              "          if (!dataTable) return;\n",
              "\n",
              "          const docLinkHtml = 'Like what you see? Visit the ' +\n",
              "            '<a target=\"_blank\" href=https://colab.research.google.com/notebooks/data_table.ipynb>data table notebook</a>'\n",
              "            + ' to learn more about interactive tables.';\n",
              "          element.innerHTML = '';\n",
              "          dataTable['output_type'] = 'display_data';\n",
              "          await google.colab.output.renderOutput(dataTable, element);\n",
              "          const docLink = document.createElement('div');\n",
              "          docLink.innerHTML = docLinkHtml;\n",
              "          element.appendChild(docLink);\n",
              "        }\n",
              "      </script>\n",
              "    </div>\n",
              "  </div>\n",
              "  "
            ]
          },
          "metadata": {},
          "execution_count": 8
        }
      ]
    },
    {
      "cell_type": "code",
      "metadata": {
        "id": "6f7109f5"
      },
      "source": [
        "#Step 5\n",
        "# 'FIRE_YEAR' * 1000 = 2004000 + 180 = 2004180\n",
        "Fires['Date'] = pd.to_datetime(Fires['FIRE_YEAR'] * 1000 + Fires['DISCOVERY_DOY'], format='%Y%j')"
      ],
      "id": "6f7109f5",
      "execution_count": 9,
      "outputs": []
    },
    {
      "cell_type": "markdown",
      "metadata": {
        "id": "qrG4ZMH4x5qX"
      },
      "source": [
        "# Step 6: Plot the Data\n",
        "\n",
        "Use `Fires['Date'].plot()` to plot the time series.  \n",
        "\n",
        "Is this a stationary process?"
      ],
      "id": "qrG4ZMH4x5qX"
    },
    {
      "cell_type": "code",
      "metadata": {
        "id": "7877e124",
        "colab": {
          "base_uri": "https://localhost:8080/",
          "height": 283
        },
        "outputId": "9b60b69b-9911-4453-cb61-dcaaea4531c6"
      },
      "source": [
        "#Step 6\n",
        "Fires['Date'].plot()\n"
      ],
      "id": "7877e124",
      "execution_count": 7,
      "outputs": [
        {
          "output_type": "execute_result",
          "data": {
            "text/plain": [
              "<matplotlib.axes._subplots.AxesSubplot at 0x7f81928084d0>"
            ]
          },
          "metadata": {},
          "execution_count": 7
        },
        {
          "output_type": "display_data",
          "data": {
            "text/plain": [
              "<Figure size 432x288 with 1 Axes>"
            ],
            "image/png": "[encoded data removed]"
          },
          "metadata": {
            "needs_background": "light"
          }
        }
      ]
    },
    {
      "cell_type": "markdown",
      "source": [
        "**Step 6 Answer:**\n",
        "\n"
      ],
      "metadata": {
        "id": "seZHnAtmyamX"
      },
      "id": "seZHnAtmyamX"
    },
    {
      "cell_type": "code",
      "source": [
        "Fires.shape"
      ],
      "metadata": {
        "colab": {
          "base_uri": "https://localhost:8080/"
        },
        "id": "KiGYic2rkq1i",
        "outputId": "b041454d-c89e-454b-9801-bfc3395e5658"
      },
      "id": "KiGYic2rkq1i",
      "execution_count": 10,
      "outputs": [
        {
          "output_type": "execute_result",
          "data": {
            "text/plain": [
              "(5774, 17)"
            ]
          },
          "metadata": {},
          "execution_count": 10
        }
      ]
    },
    {
      "cell_type": "markdown",
      "metadata": {
        "id": "DGSmxpv1y3-0"
      },
      "source": [
        "# Step 7: Difference the Data\n",
        "\n",
        "Run the following code block to difference the data.  The results will be stored in a Pandas series called `diff`."
      ],
      "id": "DGSmxpv1y3-0"
    },
    {
      "cell_type": "code",
      "source": [
        "2, 5, 6, 10, 18\n",
        "# diff of 1 = 3 , 1, 4, 8\n",
        "# diff of 2 = 4, 5, 12\n",
        "# Move to the next value by 1 and subtract the current value with the next value "
      ],
      "metadata": {
        "id": "OZQyURrepWiE"
      },
      "id": "OZQyURrepWiE",
      "execution_count": null,
      "outputs": []
    },
    {
      "cell_type": "code",
      "metadata": {
        "id": "b04d131f",
        "colab": {
          "base_uri": "https://localhost:8080/"
        },
        "outputId": "052af0ca-5f4e-49f7-84b2-943cee1f5a44"
      },
      "source": [
        "#Step 7\n",
        "\n",
        "def difference(dataset, interval=1):\n",
        "    diff = list()\n",
        "    for i in range(interval, len(dataset)):\n",
        "        value = dataset[i] - dataset[i - interval]\n",
        "        diff.append(value)\n",
        "    return pd.Series(diff)\n",
        "\n",
        "x = Fires['Date'].values\n",
        "diff = difference(x)\n",
        "\n",
        "print(diff)"
      ],
      "id": "b04d131f",
      "execution_count": 11,
      "outputs": [
        {
          "output_type": "stream",
          "name": "stdout",
          "text": [
            "0         0 days\n",
            "1       100 days\n",
            "2         7 days\n",
            "3       205 days\n",
            "4        56 days\n",
            "          ...   \n",
            "5768    358 days\n",
            "5769   1412 days\n",
            "5770     27 days\n",
            "5771    391 days\n",
            "5772      3 days\n",
            "Length: 5773, dtype: timedelta64[ns]\n"
          ]
        }
      ]
    },
    {
      "cell_type": "code",
      "source": [
        "diff[:10]"
      ],
      "metadata": {
        "colab": {
          "base_uri": "https://localhost:8080/"
        },
        "id": "H6rAAfFJm-Vs",
        "outputId": "1b820304-4cef-4baf-c75a-c59ea6a1e70b"
      },
      "id": "H6rAAfFJm-Vs",
      "execution_count": 15,
      "outputs": [
        {
          "output_type": "execute_result",
          "data": {
            "text/plain": [
              "0     0 days\n",
              "1   100 days\n",
              "2     7 days\n",
              "3   205 days\n",
              "4    56 days\n",
              "5    20 days\n",
              "6     7 days\n",
              "7    -8 days\n",
              "8    18 days\n",
              "9     0 days\n",
              "dtype: timedelta64[ns]"
            ]
          },
          "metadata": {},
          "execution_count": 15
        }
      ]
    },
    {
      "cell_type": "markdown",
      "metadata": {
        "id": "EyzjkgbI0NUR"
      },
      "source": [
        "# Step 8: Plot the Differenced Data\n",
        "\n",
        "Use `plt.plot(diff)` to plot the differenced time series data.  \n",
        "\n",
        "Does the time series appear stationary now?"
      ],
      "id": "EyzjkgbI0NUR"
    },
    {
      "cell_type": "code",
      "metadata": {
        "id": "b3ba9acd",
        "colab": {
          "base_uri": "https://localhost:8080/",
          "height": 294
        },
        "outputId": "38eaaef3-1552-439a-ebf4-8a747d8846ac"
      },
      "source": [
        "#Step 8\n",
        "plt.plot(diff)\n",
        "\n"
      ],
      "id": "b3ba9acd",
      "execution_count": 16,
      "outputs": [
        {
          "output_type": "execute_result",
          "data": {
            "text/plain": [
              "[<matplotlib.lines.Line2D at 0x7f8190125fd0>]"
            ]
          },
          "metadata": {},
          "execution_count": 16
        },
        {
          "output_type": "display_data",
          "data": {
            "text/plain": [
              "<Figure size 432x288 with 1 Axes>"
            ],
            "image/png": "[encoded data removed]"
          },
          "metadata": {
            "needs_background": "light"
          }
        }
      ]
    },
    {
      "cell_type": "markdown",
      "source": [
        "**Step 8 Answer:**\n",
        "\n"
      ],
      "metadata": {
        "id": "ackTYjdK0mti"
      },
      "id": "ackTYjdK0mti"
    }
  ]
}