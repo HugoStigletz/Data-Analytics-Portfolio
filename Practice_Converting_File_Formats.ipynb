{
  "nbformat": 4,
  "nbformat_minor": 5,
  "metadata": {
    "kernelspec": {
      "display_name": "Python 3",
      "language": "python",
      "name": "python3"
    },
    "language_info": {
      "codemirror_mode": {
        "name": "ipython",
        "version": 3
      },
      "file_extension": ".py",
      "mimetype": "text/x-python",
      "name": "python",
      "nbconvert_exporter": "python",
      "pygments_lexer": "ipython3",
      "version": "3.8.8"
    },
    "colab": {
      "name": "Practice_Converting_File_Formats ",
      "provenance": [],
      "collapsed_sections": [],
      "include_colab_link": true
    }
  },
  "cells": [
    {
      "cell_type": "markdown",
      "metadata": {
        "id": "view-in-github",
        "colab_type": "text"
      },
      "source": [
        "<a href=\"https://colab.research.google.com/github/HugoStigletz/Data-Analytics-Portfolio/blob/main/Practice_Converting_File_Formats.ipynb\" target=\"_parent\"><img src=\"https://colab.research.google.com/assets/colab-badge.svg\" alt=\"Open In Colab\"/></a>"
      ]
    },
    {
      "cell_type": "markdown",
      "metadata": {
        "id": "bf680584"
      },
      "source": [
        "# Guided Activity: Part 1\n",
        "\n",
        "####Convert a text file to a CSV.\n",
        "\n",
        "The hackers have sent the file ***ClientData_2020.txt*** for us to convert. Now, we only have 10 minutes to convert this file. While we won't be sending the real thing back, we will need to check that this file is converted and updated correctly. "
      ],
      "id": "bf680584"
    },
    {
      "cell_type": "markdown",
      "metadata": {
        "id": "27623dd4"
      },
      "source": [
        "**Step 1: Upload the *ClientData_2020.txt* file to your desktop, so that it is easy to find.**\n",
        "\n",
        "You should have downloaded the text file prior to class. In case you haven't, download it now to your desktop.  "
      ],
      "id": "27623dd4"
    },
    {
      "cell_type": "markdown",
      "metadata": {
        "id": "b95f47e7"
      },
      "source": [
        "**Step 2: Import Pandas as pd.**"
      ],
      "id": "b95f47e7"
    },
    {
      "cell_type": "code",
      "metadata": {
        "id": "97b37097"
      },
      "source": [
        "import pandas as pd"
      ],
      "id": "97b37097",
      "execution_count": 2,
      "outputs": []
    },
    {
      "cell_type": "markdown",
      "metadata": {
        "id": "71965bed"
      },
      "source": [
        "**Step 3: Capture the path of the current text file.**\n",
        "\n",
        "Open your file explorer and navigate to your ***ClientData_2020.txt*** file. Click the file  (but don't open it). On the home tab, click **Copy Path**. Paste that path into the following code.\n"
      ],
      "id": "71965bed"
    },
    {
      "cell_type": "code",
      "metadata": {
        "id": "bfae1bc8"
      },
      "source": [
        "file = open(\"/content/ClientData_2020.txt\")"
      ],
      "id": "bfae1bc8",
      "execution_count": 6,
      "outputs": []
    },
    {
      "cell_type": "markdown",
      "metadata": {
        "id": "958662d6"
      },
      "source": [
        "**Step 4: Determine where you want the newly generated file to be stored.**\n",
        "\n",
        "For ease, let's store the newly converted file on the desktop as well. Let's call the new file, CSV_file. \n",
        "\n",
        "Fill in the code below. "
      ],
      "id": "958662d6"
    },
    {
      "cell_type": "code",
      "metadata": {
        "id": "5adf665f"
      },
      "source": [
        "file.to_csv = (r'C:/content/ClientData_2020.txt')"
      ],
      "id": "5adf665f",
      "execution_count": 7,
      "outputs": []
    },
    {
      "cell_type": "markdown",
      "metadata": {
        "id": "aa08f3eb"
      },
      "source": [
        "# Guided Activity: Part 2\n",
        "\n",
        "####Convert the CSV file to an Excel document for the hacker! \n",
        "Instead of filling in the statements, this time you will write your own. "
      ],
      "id": "aa08f3eb"
    },
    {
      "cell_type": "markdown",
      "metadata": {
        "id": "e89114b0"
      },
      "source": [
        "**Step 1: Ensure that you have downloaded the** ***ClientData_2020.csv***.\n",
        "\n",
        "Ensure that the CSV version of the Client Data file is downloaded to your desktop. \n",
        "\n",
        "**Step 2: Import Pandas as pd.**\n",
        "\n",
        "You can import Pandas as `pd` again or re-run the cell with that code above."
      ],
      "id": "e89114b0"
    },
    {
      "cell_type": "markdown",
      "metadata": {
        "id": "ab887c86"
      },
      "source": [
        "**Step 3: Capture the path of the current CSV file.**\n",
        "\n",
        "Open your file explorer and navigate to your ***ClientData_2020.csv*** file. Click the file (but don't open it). On the home tab, click **Copy Path**. Read the CSV file into a variable name of your choice."
      ],
      "id": "ab887c86"
    },
    {
      "cell_type": "code",
      "metadata": {
        "id": "31b94cec",
        "colab": {
          "base_uri": "https://localhost:8080/",
          "height": 424
        },
        "outputId": "89cc9e1f-89fe-4369-9fba-bdc46dc58eed"
      },
      "source": [
        "file = pd.read_csv(r'ClientData_2020.csv')\n",
        "file"
      ],
      "id": "31b94cec",
      "execution_count": 8,
      "outputs": [
        {
          "output_type": "execute_result",
          "data": {
            "text/plain": [
              "     Account_Num  First_Name    Last_Name                       Email  \\\n",
              "0    11-983-1512      Whitby       Shiell   wshiell2@biblegateway.com   \n",
              "1    47-898-0195       Nerti     Cummings    ncummings3@economist.com   \n",
              "2    82-661-4005        Leif        Ryder      lryder4@techcrunch.com   \n",
              "3    07-687-6412    Tiffanie      Rowbrey   trowbrey5@yellowpages.com   \n",
              "4    09-002-7659     Pacorro  Jedrzejczak   pjedrzejczak6@spotify.com   \n",
              "..           ...         ...          ...                         ...   \n",
              "850  56-195-8939  Anthiathia      Compton         acomptonrm@digg.com   \n",
              "851  43-901-0427         Ros    Caldayrou     rcaldayrouro@apache.org   \n",
              "852  09-314-1492     Janetta    Mc Gorley  jmcgorleyrp@purevolume.com   \n",
              "853  43-216-7462      Leshia          Bow            lbowrq@youku.com   \n",
              "854  49-914-6463        Alex        Bocke          abockerr@phpbb.com   \n",
              "\n",
              "           CC_Num Current_Bal  \n",
              "0    4.910000e+17      $1.42B  \n",
              "1    3.540000e+15     $263.7M  \n",
              "2    4.840000e+15      $8.28B  \n",
              "3    5.100000e+15      $9.04B  \n",
              "4    3.740000e+14     $91.14M  \n",
              "..            ...         ...  \n",
              "850  6.380000e+15     $26.26M  \n",
              "851  3.740000e+14     $111.6M  \n",
              "852  3.550000e+15     $526.1M  \n",
              "853  3.570000e+15      $1.29B  \n",
              "854  3.750000e+14    $610.36M  \n",
              "\n",
              "[855 rows x 6 columns]"
            ],
            "text/html": [
              "\n",
              "  <div id=\"df-871e4703-8f9e-493c-be8a-caf6e4f12aff\">\n",
              "    <div class=\"colab-df-container\">\n",
              "      <div>\n",
              "<style scoped>\n",
              "    .dataframe tbody tr th:only-of-type {\n",
              "        vertical-align: middle;\n",
              "    }\n",
              "\n",
              "    .dataframe tbody tr th {\n",
              "        vertical-align: top;\n",
              "    }\n",
              "\n",
              "    .dataframe thead th {\n",
              "        text-align: right;\n",
              "    }\n",
              "</style>\n",
              "<table border=\"1\" class=\"dataframe\">\n",
              "  <thead>\n",
              "    <tr style=\"text-align: right;\">\n",
              "      <th></th>\n",
              "      <th>Account_Num</th>\n",
              "      <th>First_Name</th>\n",
              "      <th>Last_Name</th>\n",
              "      <th>Email</th>\n",
              "      <th>CC_Num</th>\n",
              "      <th>Current_Bal</th>\n",
              "    </tr>\n",
              "  </thead>\n",
              "  <tbody>\n",
              "    <tr>\n",
              "      <th>0</th>\n",
              "      <td>11-983-1512</td>\n",
              "      <td>Whitby</td>\n",
              "      <td>Shiell</td>\n",
              "      <td>wshiell2@biblegateway.com</td>\n",
              "      <td>4.910000e+17</td>\n",
              "      <td>$1.42B</td>\n",
              "    </tr>\n",
              "    <tr>\n",
              "      <th>1</th>\n",
              "      <td>47-898-0195</td>\n",
              "      <td>Nerti</td>\n",
              "      <td>Cummings</td>\n",
              "      <td>ncummings3@economist.com</td>\n",
              "      <td>3.540000e+15</td>\n",
              "      <td>$263.7M</td>\n",
              "    </tr>\n",
              "    <tr>\n",
              "      <th>2</th>\n",
              "      <td>82-661-4005</td>\n",
              "      <td>Leif</td>\n",
              "      <td>Ryder</td>\n",
              "      <td>lryder4@techcrunch.com</td>\n",
              "      <td>4.840000e+15</td>\n",
              "      <td>$8.28B</td>\n",
              "    </tr>\n",
              "    <tr>\n",
              "      <th>3</th>\n",
              "      <td>07-687-6412</td>\n",
              "      <td>Tiffanie</td>\n",
              "      <td>Rowbrey</td>\n",
              "      <td>trowbrey5@yellowpages.com</td>\n",
              "      <td>5.100000e+15</td>\n",
              "      <td>$9.04B</td>\n",
              "    </tr>\n",
              "    <tr>\n",
              "      <th>4</th>\n",
              "      <td>09-002-7659</td>\n",
              "      <td>Pacorro</td>\n",
              "      <td>Jedrzejczak</td>\n",
              "      <td>pjedrzejczak6@spotify.com</td>\n",
              "      <td>3.740000e+14</td>\n",
              "      <td>$91.14M</td>\n",
              "    </tr>\n",
              "    <tr>\n",
              "      <th>...</th>\n",
              "      <td>...</td>\n",
              "      <td>...</td>\n",
              "      <td>...</td>\n",
              "      <td>...</td>\n",
              "      <td>...</td>\n",
              "      <td>...</td>\n",
              "    </tr>\n",
              "    <tr>\n",
              "      <th>850</th>\n",
              "      <td>56-195-8939</td>\n",
              "      <td>Anthiathia</td>\n",
              "      <td>Compton</td>\n",
              "      <td>acomptonrm@digg.com</td>\n",
              "      <td>6.380000e+15</td>\n",
              "      <td>$26.26M</td>\n",
              "    </tr>\n",
              "    <tr>\n",
              "      <th>851</th>\n",
              "      <td>43-901-0427</td>\n",
              "      <td>Ros</td>\n",
              "      <td>Caldayrou</td>\n",
              "      <td>rcaldayrouro@apache.org</td>\n",
              "      <td>3.740000e+14</td>\n",
              "      <td>$111.6M</td>\n",
              "    </tr>\n",
              "    <tr>\n",
              "      <th>852</th>\n",
              "      <td>09-314-1492</td>\n",
              "      <td>Janetta</td>\n",
              "      <td>Mc Gorley</td>\n",
              "      <td>jmcgorleyrp@purevolume.com</td>\n",
              "      <td>3.550000e+15</td>\n",
              "      <td>$526.1M</td>\n",
              "    </tr>\n",
              "    <tr>\n",
              "      <th>853</th>\n",
              "      <td>43-216-7462</td>\n",
              "      <td>Leshia</td>\n",
              "      <td>Bow</td>\n",
              "      <td>lbowrq@youku.com</td>\n",
              "      <td>3.570000e+15</td>\n",
              "      <td>$1.29B</td>\n",
              "    </tr>\n",
              "    <tr>\n",
              "      <th>854</th>\n",
              "      <td>49-914-6463</td>\n",
              "      <td>Alex</td>\n",
              "      <td>Bocke</td>\n",
              "      <td>abockerr@phpbb.com</td>\n",
              "      <td>3.750000e+14</td>\n",
              "      <td>$610.36M</td>\n",
              "    </tr>\n",
              "  </tbody>\n",
              "</table>\n",
              "<p>855 rows × 6 columns</p>\n",
              "</div>\n",
              "      <button class=\"colab-df-convert\" onclick=\"convertToInteractive('df-871e4703-8f9e-493c-be8a-caf6e4f12aff')\"\n",
              "              title=\"Convert this dataframe to an interactive table.\"\n",
              "              style=\"display:none;\">\n",
              "        \n",
              "  <svg xmlns=\"http://www.w3.org/2000/svg\" height=\"24px\"viewBox=\"0 0 24 24\"\n",
              "       width=\"24px\">\n",
              "    <path d=\"M0 0h24v24H0V0z\" fill=\"none\"/>\n",
              "    <path d=\"M18.56 5.44l.94 2.06.94-2.06 2.06-.94-2.06-.94-.94-2.06-.94 2.06-2.06.94zm-11 1L8.5 8.5l.94-2.06 2.06-.94-2.06-.94L8.5 2.5l-.94 2.06-2.06.94zm10 10l.94 2.06.94-2.06 2.06-.94-2.06-.94-.94-2.06-.94 2.06-2.06.94z\"/><path d=\"M17.41 7.96l-1.37-1.37c-.4-.4-.92-.59-1.43-.59-.52 0-1.04.2-1.43.59L10.3 9.45l-7.72 7.72c-.78.78-.78 2.05 0 2.83L4 21.41c.39.39.9.59 1.41.59.51 0 1.02-.2 1.41-.59l7.78-7.78 2.81-2.81c.8-.78.8-2.07 0-2.86zM5.41 20L4 18.59l7.72-7.72 1.47 1.35L5.41 20z\"/>\n",
              "  </svg>\n",
              "      </button>\n",
              "      \n",
              "  <style>\n",
              "    .colab-df-container {\n",
              "      display:flex;\n",
              "      flex-wrap:wrap;\n",
              "      gap: 12px;\n",
              "    }\n",
              "\n",
              "    .colab-df-convert {\n",
              "      background-color: #E8F0FE;\n",
              "      border: none;\n",
              "      border-radius: 50%;\n",
              "      cursor: pointer;\n",
              "      display: none;\n",
              "      fill: #1967D2;\n",
              "      height: 32px;\n",
              "      padding: 0 0 0 0;\n",
              "      width: 32px;\n",
              "    }\n",
              "\n",
              "    .colab-df-convert:hover {\n",
              "      background-color: #E2EBFA;\n",
              "      box-shadow: 0px 1px 2px rgba(60, 64, 67, 0.3), 0px 1px 3px 1px rgba(60, 64, 67, 0.15);\n",
              "      fill: #174EA6;\n",
              "    }\n",
              "\n",
              "    [theme=dark] .colab-df-convert {\n",
              "      background-color: #3B4455;\n",
              "      fill: #D2E3FC;\n",
              "    }\n",
              "\n",
              "    [theme=dark] .colab-df-convert:hover {\n",
              "      background-color: #434B5C;\n",
              "      box-shadow: 0px 1px 3px 1px rgba(0, 0, 0, 0.15);\n",
              "      filter: drop-shadow(0px 1px 2px rgba(0, 0, 0, 0.3));\n",
              "      fill: #FFFFFF;\n",
              "    }\n",
              "  </style>\n",
              "\n",
              "      <script>\n",
              "        const buttonEl =\n",
              "          document.querySelector('#df-871e4703-8f9e-493c-be8a-caf6e4f12aff button.colab-df-convert');\n",
              "        buttonEl.style.display =\n",
              "          google.colab.kernel.accessAllowed ? 'block' : 'none';\n",
              "\n",
              "        async function convertToInteractive(key) {\n",
              "          const element = document.querySelector('#df-871e4703-8f9e-493c-be8a-caf6e4f12aff');\n",
              "          const dataTable =\n",
              "            await google.colab.kernel.invokeFunction('convertToInteractive',\n",
              "                                                     [key], {});\n",
              "          if (!dataTable) return;\n",
              "\n",
              "          const docLinkHtml = 'Like what you see? Visit the ' +\n",
              "            '<a target=\"_blank\" href=https://colab.research.google.com/notebooks/data_table.ipynb>data table notebook</a>'\n",
              "            + ' to learn more about interactive tables.';\n",
              "          element.innerHTML = '';\n",
              "          dataTable['output_type'] = 'display_data';\n",
              "          await google.colab.output.renderOutput(dataTable, element);\n",
              "          const docLink = document.createElement('div');\n",
              "          docLink.innerHTML = docLinkHtml;\n",
              "          element.appendChild(docLink);\n",
              "        }\n",
              "      </script>\n",
              "    </div>\n",
              "  </div>\n",
              "  "
            ]
          },
          "metadata": {},
          "execution_count": 8
        }
      ]
    },
    {
      "cell_type": "markdown",
      "metadata": {
        "id": "1cce85f5"
      },
      "source": [
        "**Step 4: Determine where you want the newly generated file to be stored.**\n",
        "\n",
        "Use the `file.to_excel` function to transform the CSV file into an Excel document. "
      ],
      "id": "1cce85f5"
    },
    {
      "cell_type": "code",
      "metadata": {
        "id": "313d6919"
      },
      "source": [
        "file.to_excel('ClientData_2020.xlsx')"
      ],
      "id": "313d6919",
      "execution_count": 13,
      "outputs": []
    },
    {
      "cell_type": "markdown",
      "metadata": {
        "id": "0485879b"
      },
      "source": [
        "**Step 5: Navigate to your homepage to find the newly generated document.**\n",
        "\n",
        "Click the homepage and navigate to the file path you specified above. Confirm that the file is there.\n",
        "\n",
        "**Step 6: Create a DataFrame from the Excel document and run .head()** \n",
        "\n",
        "Use `pd.read_excel(r'filepath')` to read the Excel document into a DataFrame. Index the DataFrame on the first column."
      ],
      "id": "0485879b"
    },
    {
      "cell_type": "code",
      "metadata": {
        "id": "cda48af5"
      },
      "source": [
        "df = pd.read_excel(r'ClientData_2020.xlsx', index_col=[0])"
      ],
      "id": "cda48af5",
      "execution_count": 14,
      "outputs": []
    },
    {
      "cell_type": "code",
      "metadata": {
        "id": "df5eb7b6",
        "colab": {
          "base_uri": "https://localhost:8080/",
          "height": 206
        },
        "outputId": "4dc876fb-ad7d-430f-d7c1-a12974198864"
      },
      "source": [
        "df.head()"
      ],
      "id": "df5eb7b6",
      "execution_count": 15,
      "outputs": [
        {
          "output_type": "execute_result",
          "data": {
            "text/plain": [
              "   Account_Num First_Name    Last_Name                      Email  \\\n",
              "0  11-983-1512     Whitby       Shiell  wshiell2@biblegateway.com   \n",
              "1  47-898-0195      Nerti     Cummings   ncummings3@economist.com   \n",
              "2  82-661-4005       Leif        Ryder     lryder4@techcrunch.com   \n",
              "3  07-687-6412   Tiffanie      Rowbrey  trowbrey5@yellowpages.com   \n",
              "4  09-002-7659    Pacorro  Jedrzejczak  pjedrzejczak6@spotify.com   \n",
              "\n",
              "         CC_Num Current_Bal  \n",
              "0  4.910000e+17      $1.42B  \n",
              "1  3.540000e+15     $263.7M  \n",
              "2  4.840000e+15      $8.28B  \n",
              "3  5.100000e+15      $9.04B  \n",
              "4  3.740000e+14     $91.14M  "
            ],
            "text/html": [
              "\n",
              "  <div id=\"df-4db475fa-3302-4c28-a3e7-2aeb807a8210\">\n",
              "    <div class=\"colab-df-container\">\n",
              "      <div>\n",
              "<style scoped>\n",
              "    .dataframe tbody tr th:only-of-type {\n",
              "        vertical-align: middle;\n",
              "    }\n",
              "\n",
              "    .dataframe tbody tr th {\n",
              "        vertical-align: top;\n",
              "    }\n",
              "\n",
              "    .dataframe thead th {\n",
              "        text-align: right;\n",
              "    }\n",
              "</style>\n",
              "<table border=\"1\" class=\"dataframe\">\n",
              "  <thead>\n",
              "    <tr style=\"text-align: right;\">\n",
              "      <th></th>\n",
              "      <th>Account_Num</th>\n",
              "      <th>First_Name</th>\n",
              "      <th>Last_Name</th>\n",
              "      <th>Email</th>\n",
              "      <th>CC_Num</th>\n",
              "      <th>Current_Bal</th>\n",
              "    </tr>\n",
              "  </thead>\n",
              "  <tbody>\n",
              "    <tr>\n",
              "      <th>0</th>\n",
              "      <td>11-983-1512</td>\n",
              "      <td>Whitby</td>\n",
              "      <td>Shiell</td>\n",
              "      <td>wshiell2@biblegateway.com</td>\n",
              "      <td>4.910000e+17</td>\n",
              "      <td>$1.42B</td>\n",
              "    </tr>\n",
              "    <tr>\n",
              "      <th>1</th>\n",
              "      <td>47-898-0195</td>\n",
              "      <td>Nerti</td>\n",
              "      <td>Cummings</td>\n",
              "      <td>ncummings3@economist.com</td>\n",
              "      <td>3.540000e+15</td>\n",
              "      <td>$263.7M</td>\n",
              "    </tr>\n",
              "    <tr>\n",
              "      <th>2</th>\n",
              "      <td>82-661-4005</td>\n",
              "      <td>Leif</td>\n",
              "      <td>Ryder</td>\n",
              "      <td>lryder4@techcrunch.com</td>\n",
              "      <td>4.840000e+15</td>\n",
              "      <td>$8.28B</td>\n",
              "    </tr>\n",
              "    <tr>\n",
              "      <th>3</th>\n",
              "      <td>07-687-6412</td>\n",
              "      <td>Tiffanie</td>\n",
              "      <td>Rowbrey</td>\n",
              "      <td>trowbrey5@yellowpages.com</td>\n",
              "      <td>5.100000e+15</td>\n",
              "      <td>$9.04B</td>\n",
              "    </tr>\n",
              "    <tr>\n",
              "      <th>4</th>\n",
              "      <td>09-002-7659</td>\n",
              "      <td>Pacorro</td>\n",
              "      <td>Jedrzejczak</td>\n",
              "      <td>pjedrzejczak6@spotify.com</td>\n",
              "      <td>3.740000e+14</td>\n",
              "      <td>$91.14M</td>\n",
              "    </tr>\n",
              "  </tbody>\n",
              "</table>\n",
              "</div>\n",
              "      <button class=\"colab-df-convert\" onclick=\"convertToInteractive('df-4db475fa-3302-4c28-a3e7-2aeb807a8210')\"\n",
              "              title=\"Convert this dataframe to an interactive table.\"\n",
              "              style=\"display:none;\">\n",
              "        \n",
              "  <svg xmlns=\"http://www.w3.org/2000/svg\" height=\"24px\"viewBox=\"0 0 24 24\"\n",
              "       width=\"24px\">\n",
              "    <path d=\"M0 0h24v24H0V0z\" fill=\"none\"/>\n",
              "    <path d=\"M18.56 5.44l.94 2.06.94-2.06 2.06-.94-2.06-.94-.94-2.06-.94 2.06-2.06.94zm-11 1L8.5 8.5l.94-2.06 2.06-.94-2.06-.94L8.5 2.5l-.94 2.06-2.06.94zm10 10l.94 2.06.94-2.06 2.06-.94-2.06-.94-.94-2.06-.94 2.06-2.06.94z\"/><path d=\"M17.41 7.96l-1.37-1.37c-.4-.4-.92-.59-1.43-.59-.52 0-1.04.2-1.43.59L10.3 9.45l-7.72 7.72c-.78.78-.78 2.05 0 2.83L4 21.41c.39.39.9.59 1.41.59.51 0 1.02-.2 1.41-.59l7.78-7.78 2.81-2.81c.8-.78.8-2.07 0-2.86zM5.41 20L4 18.59l7.72-7.72 1.47 1.35L5.41 20z\"/>\n",
              "  </svg>\n",
              "      </button>\n",
              "      \n",
              "  <style>\n",
              "    .colab-df-container {\n",
              "      display:flex;\n",
              "      flex-wrap:wrap;\n",
              "      gap: 12px;\n",
              "    }\n",
              "\n",
              "    .colab-df-convert {\n",
              "      background-color: #E8F0FE;\n",
              "      border: none;\n",
              "      border-radius: 50%;\n",
              "      cursor: pointer;\n",
              "      display: none;\n",
              "      fill: #1967D2;\n",
              "      height: 32px;\n",
              "      padding: 0 0 0 0;\n",
              "      width: 32px;\n",
              "    }\n",
              "\n",
              "    .colab-df-convert:hover {\n",
              "      background-color: #E2EBFA;\n",
              "      box-shadow: 0px 1px 2px rgba(60, 64, 67, 0.3), 0px 1px 3px 1px rgba(60, 64, 67, 0.15);\n",
              "      fill: #174EA6;\n",
              "    }\n",
              "\n",
              "    [theme=dark] .colab-df-convert {\n",
              "      background-color: #3B4455;\n",
              "      fill: #D2E3FC;\n",
              "    }\n",
              "\n",
              "    [theme=dark] .colab-df-convert:hover {\n",
              "      background-color: #434B5C;\n",
              "      box-shadow: 0px 1px 3px 1px rgba(0, 0, 0, 0.15);\n",
              "      filter: drop-shadow(0px 1px 2px rgba(0, 0, 0, 0.3));\n",
              "      fill: #FFFFFF;\n",
              "    }\n",
              "  </style>\n",
              "\n",
              "      <script>\n",
              "        const buttonEl =\n",
              "          document.querySelector('#df-4db475fa-3302-4c28-a3e7-2aeb807a8210 button.colab-df-convert');\n",
              "        buttonEl.style.display =\n",
              "          google.colab.kernel.accessAllowed ? 'block' : 'none';\n",
              "\n",
              "        async function convertToInteractive(key) {\n",
              "          const element = document.querySelector('#df-4db475fa-3302-4c28-a3e7-2aeb807a8210');\n",
              "          const dataTable =\n",
              "            await google.colab.kernel.invokeFunction('convertToInteractive',\n",
              "                                                     [key], {});\n",
              "          if (!dataTable) return;\n",
              "\n",
              "          const docLinkHtml = 'Like what you see? Visit the ' +\n",
              "            '<a target=\"_blank\" href=https://colab.research.google.com/notebooks/data_table.ipynb>data table notebook</a>'\n",
              "            + ' to learn more about interactive tables.';\n",
              "          element.innerHTML = '';\n",
              "          dataTable['output_type'] = 'display_data';\n",
              "          await google.colab.output.renderOutput(dataTable, element);\n",
              "          const docLink = document.createElement('div');\n",
              "          docLink.innerHTML = docLinkHtml;\n",
              "          element.appendChild(docLink);\n",
              "        }\n",
              "      </script>\n",
              "    </div>\n",
              "  </div>\n",
              "  "
            ]
          },
          "metadata": {},
          "execution_count": 15
        }
      ]
    },
    {
      "cell_type": "markdown",
      "metadata": {
        "id": "03d43c09"
      },
      "source": [
        "# Independent Activity: Create a PDF\n",
        "\n",
        "####Create a PDF that contains 5 riddles, and each requires a number as the answer. \n",
        "Spend some time between your teammates either creating or researching riddles. A riddle can be a problem to solve or even a math equation—make it tricky!\n",
        "\n",
        "Store your riddles here: "
      ],
      "id": "03d43c09"
    },
    {
      "cell_type": "markdown",
      "metadata": {
        "id": "7dc3d12a"
      },
      "source": [
        "x - 5 = 10\n",
        "y + 32 = 96\n",
        "z^2 -5 = 20\n",
        "George Washington's Birthday.\n",
        "The number of digits in pi. "
      ],
      "id": "7dc3d12a"
    },
    {
      "cell_type": "markdown",
      "metadata": {
        "id": "914b008b"
      },
      "source": [
        "**Step 1: Pip install fpdf.**"
      ],
      "id": "914b008b"
    },
    {
      "cell_type": "code",
      "metadata": {
        "id": "bf29428a",
        "colab": {
          "base_uri": "https://localhost:8080/"
        },
        "outputId": "0470f02e-d52e-4040-ea34-21a4ee6d4237"
      },
      "source": [
        "pip install fpdf"
      ],
      "id": "bf29428a",
      "execution_count": 16,
      "outputs": [
        {
          "output_type": "stream",
          "name": "stdout",
          "text": [
            "Looking in indexes: https://pypi.org/simple, https://us-python.pkg.dev/colab-wheels/public/simple/\n",
            "Collecting fpdf\n",
            "  Downloading fpdf-1.7.2.tar.gz (39 kB)\n",
            "Building wheels for collected packages: fpdf\n",
            "  Building wheel for fpdf (setup.py) ... \u001b[?25l\u001b[?25hdone\n",
            "  Created wheel for fpdf: filename=fpdf-1.7.2-py2.py3-none-any.whl size=40725 sha256=d58977025815a470d2f10a418356b69c31bd4500f92d67864af659d4259e91f3\n",
            "  Stored in directory: /root/.cache/pip/wheels/d7/ca/c8/86467e7957bbbcbdf4cf4870fc7dc95e9a16404b2e3c3a98c3\n",
            "Successfully built fpdf\n",
            "Installing collected packages: fpdf\n",
            "Successfully installed fpdf-1.7.2\n"
          ]
        }
      ]
    },
    {
      "cell_type": "markdown",
      "metadata": {
        "id": "6a8ccc67"
      },
      "source": [
        "**Step 2: Import FPDF from fpdf.**"
      ],
      "id": "6a8ccc67"
    },
    {
      "cell_type": "code",
      "metadata": {
        "id": "f21199fe"
      },
      "source": [
        "from fpdf import FPDF"
      ],
      "id": "f21199fe",
      "execution_count": 28,
      "outputs": []
    },
    {
      "cell_type": "markdown",
      "metadata": {
        "id": "16960b5c"
      },
      "source": [
        "**Step 3: Save FPDF() into a variable of your choice.**\n",
        "\n",
        "Create a variable to store `FPDF()` "
      ],
      "id": "16960b5c"
    },
    {
      "cell_type": "code",
      "metadata": {
        "id": "56d91c3c"
      },
      "source": [
        "pdf = FPDF() "
      ],
      "id": "56d91c3c",
      "execution_count": 29,
      "outputs": []
    },
    {
      "cell_type": "markdown",
      "metadata": {
        "id": "110233c2"
      },
      "source": [
        "**Step 4: Add a page with .add_page()**\n",
        "\n",
        "Before we can write anything in our file, we have to add a page first. You can do so with `.add_page()`"
      ],
      "id": "110233c2"
    },
    {
      "cell_type": "code",
      "metadata": {
        "id": "35fc3768"
      },
      "source": [
        "pdf.add_page()"
      ],
      "id": "35fc3768",
      "execution_count": 31,
      "outputs": []
    },
    {
      "cell_type": "markdown",
      "metadata": {
        "id": "9eee2732"
      },
      "source": [
        "**Step 5: Set the style of font and size with .set_font**\n",
        "\n",
        "Have fun with this! Choose a font from the below list: \n",
        "* Courier\n",
        "* Helvetica or Arial\n",
        "* Times\n",
        "* Symbol\n",
        "* Zapf Dingbats\n",
        "\n",
        "You can also specify a font style: \n",
        "* Empty: regular\n",
        "* B: bold\n",
        "* I: italic \n",
        "* U: underline"
      ],
      "id": "9eee2732"
    },
    {
      "cell_type": "code",
      "metadata": {
        "id": "00fdfa35"
      },
      "source": [
        "# pdf.set_font(\"Times\", size=16)\n",
        "pdf.set_font(\"Times\", style=\"B\", size=16)"
      ],
      "id": "00fdfa35",
      "execution_count": 36,
      "outputs": []
    },
    {
      "cell_type": "markdown",
      "metadata": {
        "id": "652dfac9"
      },
      "source": [
        "**Step 6: Create a cell for each of your riddles.**\n",
        "\n",
        "`pdf.cell()` allows you to input text on any given line and alignment in the PDF. \n",
        "\n",
        "Your first riddle has been written for you below. Note that each riddle should generate a number to be a part of the kill-switch code for the hackers to type in."
      ],
      "id": "652dfac9"
    },
    {
      "cell_type": "code",
      "metadata": {
        "id": "5e976ea8"
      },
      "source": [
        "pdf.cell(200, 10, txt = \"George Washington's birthday month (number)\", ln = 1, align = 'C')"
      ],
      "id": "5e976ea8",
      "execution_count": 37,
      "outputs": []
    },
    {
      "cell_type": "markdown",
      "metadata": {
        "id": "53de4343"
      },
      "source": [
        "Now, create a cell for the remaining 2 (or more) riddles. You can adjust the alignment and lines (such as skipping) to whatever your team decides.\n",
        "\n",
        "\n",
        "\n",
        "\n"
      ],
      "id": "53de4343"
    },
    {
      "cell_type": "code",
      "metadata": {
        "id": "01795392"
      },
      "source": [
        "pdf.cell(200, 10, txt = \"What is full of holes but still holds water\", ln = 2, align = 'C')\n",
        "pdf.cell(200, 10, txt = \"I have 4 wheels and flies\", ln = 3, align = 'C')\n"
      ],
      "id": "01795392",
      "execution_count": 38,
      "outputs": []
    },
    {
      "cell_type": "markdown",
      "metadata": {
        "id": "734c74fb"
      },
      "source": [
        "**Step 7: Save the PDF**\n",
        "\n",
        "Save the PDF with `.output(\"name.pdf\")`. Name the PDF \"Instructions\" for the hackers to think this is the key for the passcode!"
      ],
      "id": "734c74fb"
    },
    {
      "cell_type": "code",
      "metadata": {
        "id": "a18d19d0",
        "outputId": "f23c9b9f-af90-4397-f46b-594e5a034591",
        "colab": {
          "base_uri": "https://localhost:8080/",
          "height": 36
        }
      },
      "source": [
        "pdf.output(\"Riddle_me_this.pdf\",dest='F')"
      ],
      "id": "a18d19d0",
      "execution_count": 39,
      "outputs": [
        {
          "output_type": "execute_result",
          "data": {
            "text/plain": [
              "''"
            ],
            "application/vnd.google.colaboratory.intrinsic+json": {
              "type": "string"
            }
          },
          "metadata": {},
          "execution_count": 39
        }
      ]
    },
    {
      "cell_type": "markdown",
      "metadata": {
        "id": "96b02b24"
      },
      "source": [
        "**Step 8: Execute the following code to open your PDF!** \n",
        "\n",
        "Upload this PDF to the discussion board."
      ],
      "id": "96b02b24"
    },
    {
      "cell_type": "code",
      "metadata": {
        "id": "94b1d6be",
        "colab": {
          "base_uri": "https://localhost:8080/"
        },
        "outputId": "cc82c216-dc35-43ee-8410-b431f4b2142e"
      },
      "source": [
        "import webbrowser\n",
        "path = 'Riddle_me_this.pdf'\n",
        "webbrowser.open_new(path)"
      ],
      "id": "94b1d6be",
      "execution_count": 40,
      "outputs": [
        {
          "output_type": "execute_result",
          "data": {
            "text/plain": [
              "False"
            ]
          },
          "metadata": {},
          "execution_count": 40
        }
      ]
    },
    {
      "cell_type": "code",
      "metadata": {
        "id": "e1bd5acf"
      },
      "source": [
        ""
      ],
      "id": "e1bd5acf",
      "execution_count": 40,
      "outputs": []
    }
  ]
}