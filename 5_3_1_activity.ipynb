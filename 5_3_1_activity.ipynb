{
  "nbformat": 4,
  "nbformat_minor": 0,
  "metadata": {
    "colab": {
      "name": "5.3.1-activity.ipynb",
      "provenance": [],
      "collapsed_sections": [],
      "include_colab_link": true
    },
    "kernelspec": {
      "name": "python3",
      "display_name": "Python 3"
    },
    "language_info": {
      "name": "python"
    }
  },
  "cells": [
    {
      "cell_type": "markdown",
      "metadata": {
        "id": "view-in-github",
        "colab_type": "text"
      },
      "source": [
        "<a href=\"https://colab.research.google.com/github/HugoStigletz/Data-Analytics-Portfolio/blob/main/5_3_1_activity.ipynb\" target=\"_parent\"><img src=\"https://colab.research.google.com/assets/colab-badge.svg\" alt=\"Open In Colab\"/></a>"
      ]
    },
    {
      "cell_type": "markdown",
      "metadata": {
        "id": "_HOPqsVywsSx"
      },
      "source": [
        "# 5.3.1 Activity: If-Else Statements and For-While Loops\n",
        "\n",
        "Download this Colab notebook and open it in your own Drive to complete the exercises."
      ]
    },
    {
      "cell_type": "markdown",
      "metadata": {
        "id": "SUZ8wNwe0Vss"
      },
      "source": [
        "## 1: Syntax"
      ]
    },
    {
      "cell_type": "markdown",
      "metadata": {
        "id": "ZrA6vMacU2rc"
      },
      "source": [
        "### a) Complete the syntax of an `if` statement in the cell below."
      ]
    },
    {
      "cell_type": "markdown",
      "source": [
        "if ...\n",
        "\n",
        "..."
      ],
      "metadata": {
        "id": "wgGQlsfXa_Ki"
      }
    },
    {
      "cell_type": "markdown",
      "metadata": {
        "id": "4e3qZMJY6gsI"
      },
      "source": [
        "### b) Complete the syntax of an `if` statement with two conditions."
      ]
    },
    {
      "cell_type": "code",
      "metadata": {
        "id": "RE1_cm-x7Rka"
      },
      "source": [
        "if ..."
      ],
      "execution_count": null,
      "outputs": []
    },
    {
      "cell_type": "markdown",
      "metadata": {
        "id": "wN0bNJ-P5wOe"
      },
      "source": [
        "---\n",
        "\n",
        "## 2: Student Grades\n",
        "Alyssa wants to determine whether she can move on to the next course in an online class. She had to get at least a score of 75 to pass. Write an `if` statement that prints out:\n",
        "- \"You passed!\" if she passed\n",
        "- \"Try again\" if she didn't pass \n",
        "- \"Please see your teacher\" if she got below a 50."
      ]
    },
    {
      "cell_type": "code",
      "metadata": {
        "id": "HxinC2XT7W6i"
      },
      "source": [
        "Alyssa = 77"
      ],
      "execution_count": null,
      "outputs": []
    },
    {
      "cell_type": "code",
      "metadata": {
        "id": "ICymAMzw-O2D"
      },
      "source": [
        "if ..."
      ],
      "execution_count": null,
      "outputs": []
    },
    {
      "cell_type": "markdown",
      "metadata": {
        "id": "PKKSdllD-OSU"
      },
      "source": [
        "---\n",
        "## 3: Even or Odd\n",
        "Write a program that prints out whether the number you input is even or odd. This is a popular Python question.\n",
        "\n",
        "**Hint:** Look up the `modulo operator` in Python."
      ]
    },
    {
      "cell_type": "code",
      "metadata": {
        "id": "SYI1ITwkHzia"
      },
      "source": [
        "#First, assign a name to your input.\n",
        "... = int(input(\"Enter a number: \"))\n",
        "\n",
        "\n",
        "if ...:\n",
        "   print(\"{0} is Even\".format(...insert name you chose to assign to input...))\n",
        "else:\n",
        "   print(\"{0} is Odd\".format(...insert name you chose to assign to input...))"
      ],
      "execution_count": null,
      "outputs": []
    },
    {
      "cell_type": "markdown",
      "metadata": {
        "id": "gRMKARpf--Zr"
      },
      "source": [
        "---\n",
        "## 4: Student Grades (Part 2)\n",
        "\n",
        "Alyssa, Jose, Priyanka, John, and Jeffrey's grades are all collected in a list. Find the pass rate (as a percentage) of the group of students."
      ]
    },
    {
      "cell_type": "code",
      "metadata": {
        "id": "zEYSJOgYALfn"
      },
      "source": [
        "grades = [77, 99, 48, 80, 67]\n",
        "total = len(grades)\n",
        "passed = 1\n",
        "for ...\n",
        "  if ...\n",
        "    ...\n",
        "\n",
        "pass_rate = ...\n",
        "pass_rate"
      ],
      "execution_count": null,
      "outputs": []
    },
    {
      "cell_type": "markdown",
      "metadata": {
        "id": "U83lka-1GjR3"
      },
      "source": [
        "## 5: Infinite Loop\n",
        "Write an infinite `while` loop that prints a message **except** add in a conditional statement that stops the loop if an \"n\" is the input."
      ]
    },
    {
      "cell_type": "code",
      "metadata": {
        "id": "SdN_eX6tO-fh"
      },
      "source": [
        "answer = input(\"Run again? (Y/N) \").lower()\n",
        "\n",
        "while ...\n",
        "  if answer == ...:\n",
        "    ...\n",
        "  print(\"...\")"
      ],
      "execution_count": null,
      "outputs": []
    },
    {
      "cell_type": "markdown",
      "metadata": {
        "id": "Le1lqE55GeT1"
      },
      "source": [
        "## 6: Synthesis\n",
        "\n",
        "Congratulations!🥳 You have completed the activity and now have more practice working with `if` statements and loops. Please make a list of steps for yourself for completing:\n",
        "\n",
        "1. `if` statement questions\n",
        "2. for/while loop questions\n",
        "\n",
        "Submit it as a pdf on Canvas and keep as a reference."
      ]
    },
    {
      "cell_type": "code",
      "metadata": {
        "id": "tPBYIAp5RzzQ"
      },
      "source": [
        ""
      ],
      "execution_count": null,
      "outputs": []
    }
  ]
}