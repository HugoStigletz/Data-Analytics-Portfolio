{
  "nbformat": 4,
  "nbformat_minor": 0,
  "metadata": {
    "colab": {
      "name": "scrapping with mechanicalsoup / sqlite3",
      "provenance": [],
      "authorship_tag": "ABX9TyNI0oxPZZpAm66zrPJzeE4Y",
      "include_colab_link": true
    },
    "kernelspec": {
      "name": "python3",
      "display_name": "Python 3"
    },
    "language_info": {
      "name": "python"
    }
  },
  "cells": [
    {
      "cell_type": "markdown",
      "metadata": {
        "id": "view-in-github",
        "colab_type": "text"
      },
      "source": [
        "<a href=\"https://colab.research.google.com/github/HugoStigletz/Data-Analytics-Portfolio/blob/main/scrapping_with_mechanicalsoup_sqlite3.ipynb\" target=\"_parent\"><img src=\"https://colab.research.google.com/assets/colab-badge.svg\" alt=\"Open In Colab\"/></a>"
      ]
    },
    {
      "cell_type": "code",
      "execution_count": 3,
      "metadata": {
        "id": "DqHhGqDRwS0N"
      },
      "outputs": [],
      "source": [
        "# https://en.wikipedia.org/wiki/Comparison_of_Linux_distributions\n",
        "import mechanicalsoup\n",
        "import pandas as pd\n",
        "import sqlite3"
      ]
    },
    {
      "cell_type": "code",
      "source": [
        "pip install mechanicalsoup"
      ],
      "metadata": {
        "colab": {
          "base_uri": "https://localhost:8080/"
        },
        "id": "0QBC1q_cEToK",
        "outputId": "88b0baec-071d-46bf-98f0-d3c848708d88"
      },
      "execution_count": 1,
      "outputs": [
        {
          "output_type": "stream",
          "name": "stdout",
          "text": [
            "Looking in indexes: https://pypi.org/simple, https://us-python.pkg.dev/colab-wheels/public/simple/\n",
            "Collecting mechanicalsoup\n",
            "  Downloading MechanicalSoup-1.1.0-py3-none-any.whl (19 kB)\n",
            "Requirement already satisfied: lxml in /usr/local/lib/python3.7/dist-packages (from mechanicalsoup) (4.2.6)\n",
            "Collecting beautifulsoup4>=4.7\n",
            "  Downloading beautifulsoup4-4.11.1-py3-none-any.whl (128 kB)\n",
            "\u001b[K     |████████████████████████████████| 128 kB 13.4 MB/s \n",
            "\u001b[?25hRequirement already satisfied: requests>=2.22.0 in /usr/local/lib/python3.7/dist-packages (from mechanicalsoup) (2.23.0)\n",
            "Requirement already satisfied: soupsieve>1.2 in /usr/local/lib/python3.7/dist-packages (from beautifulsoup4>=4.7->mechanicalsoup) (2.3.2.post1)\n",
            "Requirement already satisfied: certifi>=2017.4.17 in /usr/local/lib/python3.7/dist-packages (from requests>=2.22.0->mechanicalsoup) (2022.6.15)\n",
            "Requirement already satisfied: urllib3!=1.25.0,!=1.25.1,<1.26,>=1.21.1 in /usr/local/lib/python3.7/dist-packages (from requests>=2.22.0->mechanicalsoup) (1.24.3)\n",
            "Requirement already satisfied: idna<3,>=2.5 in /usr/local/lib/python3.7/dist-packages (from requests>=2.22.0->mechanicalsoup) (2.10)\n",
            "Requirement already satisfied: chardet<4,>=3.0.2 in /usr/local/lib/python3.7/dist-packages (from requests>=2.22.0->mechanicalsoup) (3.0.4)\n",
            "Installing collected packages: beautifulsoup4, mechanicalsoup\n",
            "  Attempting uninstall: beautifulsoup4\n",
            "    Found existing installation: beautifulsoup4 4.6.3\n",
            "    Uninstalling beautifulsoup4-4.6.3:\n",
            "      Successfully uninstalled beautifulsoup4-4.6.3\n",
            "Successfully installed beautifulsoup4-4.11.1 mechanicalsoup-1.1.0\n"
          ]
        }
      ]
    },
    {
      "cell_type": "code",
      "source": [
        "browser = mechanicalsoup.StatefulBrowser()\n",
        "browser.open(\"https://en.wikipedia.org/wiki/Comparison_of_Linux_distributions\")"
      ],
      "metadata": {
        "colab": {
          "base_uri": "https://localhost:8080/"
        },
        "id": "joCNJIEFGgHy",
        "outputId": "c2488bc2-369e-4e19-e112-b664ac5ecb93"
      },
      "execution_count": 5,
      "outputs": [
        {
          "output_type": "execute_result",
          "data": {
            "text/plain": [
              "<Response [200]>"
            ]
          },
          "metadata": {},
          "execution_count": 5
        }
      ]
    },
    {
      "cell_type": "code",
      "source": [
        "#extract table headers\n",
        "th = browser.page.find_all('th', attrs={\"class\": \"table-rh\"})\n",
        "distribution = [value.text.replace(\"\\n\", \"\") for value in th]\n",
        "distribution = distribution [:98]\n",
        "print(distribution)\n",
        "# print(distribution.index(\"Zorin OS\")) (Was used to locate the last index of the table we needed rather than pulling all tables from web)"
      ],
      "metadata": {
        "colab": {
          "base_uri": "https://localhost:8080/"
        },
        "id": "eL1nf8NwIMuB",
        "outputId": "7f368271-ec28-4754-fda0-b30ff28b4436"
      },
      "execution_count": 10,
      "outputs": [
        {
          "output_type": "stream",
          "name": "stdout",
          "text": [
            "['AlmaLinux', 'Alpine Linux', 'ALT Linux', 'antiX', 'ArchBang', 'Arch Linux', 'BLAG', 'Bodhi Linux', 'Canaima', 'CentOS', 'Chakra', 'Chrome OS', 'Clear Linux OS', 'ClearOS', 'CrunchBang Linux', 'Damn Small Linux', 'Debian', 'Debian Edu', 'Devuan', 'Deepin', 'Dragora GNU/Linux-Libre', 'dyne:bolic', 'Elementary OS', 'ELinOS', 'Emdebian Grip', 'EndeavourOS', 'Fedora Linux', 'Freespire', 'Gentoo Linux', 'Guix System', 'gNewSense', 'Grml', 'Hyperbola GNU/Linux-libre', 'Kali Linux', 'Knoppix', 'Kodibuntu', 'Korora', 'LibreCMC', 'Linspire', 'Linux Mint', 'Linux Lite', 'Mageia', 'Mandriva Linux', 'Manjaro Linux', 'MEPIS', 'MIRACLE LINUX', 'Musix GNU+Linux', 'Netrunner', 'NixOS', 'Novell Open Enterprise Server', 'OpenELEC', 'openSUSE', 'OpenWrt', 'OpenMandriva Lx', 'Oracle Linux', 'Parabola GNU/Linux-libre', 'Pardus', 'Parrot OS', 'Parsix', 'Parted Magic', 'PCLinuxOS', 'Pop! OS', 'Pentoo', 'Porteus', 'Puppy Linux', 'PureOS', 'Qubes OS', 'Red Hat Enterprise Linux (RHEL)', 'Red Hat Linux', 'Rocks Cluster Distribution', 'Rocky Linux', 'ROSA', 'Sabayon Linux', 'Salix OS', 'Scientific Linux', 'Slackware', 'Slax', 'SliTaz GNU/Linux', 'Solus', 'SolydXK', 'SparkyLinux', 'Source Mage GNU/Linux', 'SteamOS', 'SUSE Linux Enterprise', 'Tails', 'Tiny Core Linux', 'Trisquel GNU/Linux', 'TurnKey GNU/Linux', 'Ubuntu and Derivatives[77]', 'Univention Corporate Server', 'Ututo', 'VectorLinux', 'Void Linux', 'Webconverger', 'Xandros', 'Zentyal', 'Zenwalk', 'Zorin OS']\n"
          ]
        }
      ]
    },
    {
      "cell_type": "code",
      "source": [
        "#extract table data\n",
        "td = browser.page.find_all(\"td\")\n",
        "columns = [value.text.replace(\"\\n\", \"\") for value in td]\n",
        "columns = columns[6:1084]\n",
        "print(columns)\n",
        "#print(columns.index(\"AlmaLinux Foundation\")) (This is where our code starts)\n",
        "#print(columns.index(\"Binary blobs\")) (This is right after the last cell of the table we need because the last word \"ACTIVE\" is too generic to locate through search)"
      ],
      "metadata": {
        "colab": {
          "base_uri": "https://localhost:8080/"
        },
        "id": "JWAOUfwHMync",
        "outputId": "3dca83be-ee9c-4737-e419-6c458f586ddc"
      },
      "execution_count": 12,
      "outputs": [
        {
          "output_type": "stream",
          "name": "stdout",
          "text": [
            "['AlmaLinux Foundation', 'AlmaLinux Foundation', '2021', '9.0', '10 years[2]', '2022-05-26', 'X', 'Red Hat Enterprise Linux (RHEL)', 'server, workstation', 'None', 'Active', 'Alpine Linux Team', 'Alpine Linux Team', '2006', '3.16[3]', '?', '2022-05-23', 'X', 'LEAF Project', 'security, lightweight, general', 'None', 'Active', 'ALT Linux Team', 'ALT Linux Team, ALT Linux LLC', '2001', '10.0[4]', '?', '2021-12-16', 'X', 'Mandrake Linux', 'general, school', 'None', 'Active', 'Anticapitalista', 'Anticapitalista', '2007', '19.4[5]', '?', '2021-05-21', 'X', 'Debian, MEPIS', 'old computers', 'None', 'Active', 'Willensky Aristide', 'Stan McLaren', '2011', 'Rolling', 'Rolling', '?', 'X', 'Arch Linux (UKM Edition)', 'general', 'None', 'Active', 'Judd Vinet', 'dev team', '2002', 'Rolling', 'Rolling', 'Rolling', 'X', 'Independent, inspired from CRUX', 'general', 'None', 'Active', 'Brixton Linux Action Group', 'Brixton Linux Action Group', '2002', '140k', '?', '2011-05-04', '100% Free: GNU FSDG[6]', 'Fedora', 'desktop', 'None', 'Inactive', 'Bodhi Linux Team', 'Bodhi Linux Team', '2011', '6.0.0[7]', '?', '2021-05-12', 'X', 'Debian, Ubuntu', 'desktop, lightweight', 'None', 'Active', 'CANTV / CNTI / CENTIDEL / Edelca / VIT / FUNDACITE / Free software community', 'CANTV / CNTI / CENTIDEL / Edelca / VIT / FUNDACITE / Free software community', '2007', '6.1[8]', '?', '2020-06-24', 'X', 'Debian, Ubuntu', 'Government of Venezuela', 'None', 'Active', 'CentOS Project', 'CentOS Project', '2003', '8.2-2105', '10 years[9]', '2021-11-16', 'X', 'Red Hat Enterprise Linux (RHEL)', 'server, workstation', 'None', 'Active', 'Jan Mette and Arch Linux KDEmod developers', 'The Chakra Project Team', '2010', 'Rolling', 'Rolling', '?', 'X', 'Arch Linux[10]', 'desktop', 'None', 'Active', 'Sundar Pichai', 'Google', '2011', '100.0.4896[11]', 'Rolling', '2022-05-27', 'X', 'Gentoo Linux', 'web applications', 'None', 'Active', 'Arjan van de Ven', 'Intel', '2015', 'Rolling', 'Rolling', 'Rolling', 'X', 'Independent', 'container, server, desktop', 'None', 'Active', 'Peter Baldwin', 'ClearFoundation', '2000', '7.8[12]', '?', '2020-06-23', 'X', 'RHEL, CentOS', 'server, gateway, network', 'Some editions are free of charge', 'Active', 'Philip Newborough', 'Philip Newborough', '2008', '11[13]', '?', '2013-05-06', 'X', 'Debian', 'desktop', 'None', 'Inactive', 'John Andrews', 'dev team', '2003', '4.4.10[14]', '?', '2008-11-18', 'X', 'Debian, Knoppix', 'lightweight, portable', 'None', 'Inactive', 'Ian Murdock', 'Debian Project', '1993', '11.4[15]', '~3 years[g 1]', '2022-07-09', 'Debian Social Contract and DFSG (main is 100% free, non-free packages are optional)[16]', 'Independent, inspired by Softlanding Linux System (SLS)[17]', 'general, server, desktop', 'None', 'Active', '', 'Debian Project', '2004', '11.0[18]', '~3 years[g 1]', '2021-08-14', 'Debian Social Contract and DFSG', 'Debian', 'schools', 'None', 'Active', 'The \"Veteran Unix Admins\" (VUA)', 'The \"Veteran Unix Admins\" (VUA)', '2016', '4.0.0[19]\\xa0', '?', '2021-10-14', 'X[g 2]', 'Debian', 'general', 'None', 'Active', 'Wuhan Deepin Technology Co., Ltd.', 'Wuhan Deepin Technology Co., Ltd.', '2004', '20.6[20]\\xa0', '?', '2022-05-31', 'X', 'Debian', 'general', 'None', 'Active', 'Matias A. Fonzo', 'Matias A. Fonzo', '2009', '3.0-beta1[21]', '?', '2019-10-16', '100% Free: GNU FSDG[6]', 'Independent, inspired from Slackware', 'general', 'None', 'Active', 'Jaromil', 'Jaromilx', '2005', '3.0.0', '?', '2011-09-08', '100% Free: GNU FSDG[6]', 'Debian', 'multimedia', 'None', 'Inactive', 'Daniel Foré', 'elementary LLC', '2011', '5.1.7[22]', '?', '2020-02-05', 'X', 'Ubuntu, Debian', 'general', 'None', 'Active', 'SYSGO', 'SYSGO', '1999', '7.0[23]', '?', '2020-03-01', 'X', '–', 'embedded systems', 'Partial', 'Active', 'Embedded Debian Project', 'Embedded Debian Project', '2009', '3.1', 'End-of-life', '2013-06-15', 'X', 'Debian', 'embedded systems', 'None', 'Inactive', 'Bryan Poerwoatmodjo', 'EndeavourOS', '2019', 'Rolling', '?', '2020-07-15', 'X', 'Arch Linux', 'general', 'None', 'Active', 'Fedora Project', 'Fedora Project', '2003', '35[24]', '1 year and month', '2021-11-02', 'Fedora Licensing Guidelines[25]', 'Red Hat Linux', 'general', 'None', 'Active', 'Lindows.com, Inc.', 'PC/OpenSystems LLC', '2001', '8.0.1[26]', '?', '2022-01-12', 'X', 'Ubuntu', 'desktop', 'None', 'Active', 'Daniel Robbins', 'Gentoo Foundation, Inc.', '2002', 'Rolling', 'Rolling', 'Rolling', 'Gentoo Social Contract', 'Enoch Linux', 'general', 'None', 'Active', 'Ludovic Courtès', 'Ludovic Courtès, Ricardo Wurmus, the Guix community', '2012', '1.3.0[27]', 'Rolling', '2021-05-11', '100% Free: GNU FSDG[6]', '–', 'general', 'None', 'Active', \"Brian Brazil and Paul O'Malley\", 'Sam Geeraerts with sponsorship from the FSF', '2006', '4.0 (Ucclia)[28]', '?', '2016-05-02', '100% Free: GNU FSDG[6]', 'Debian', 'general, server', 'None', 'Inactive', 'Michael Prokop', 'The Grml Team', '2005', '2020.06[29]', '?', '2020-06-24', 'X', 'Debian', 'live, maintenance, security, network, forensic, accessibility', 'None', 'Active', 'Hyperbola Founders', 'Hyperbola Founders', '2017', '0.4[30][31]\\xa0', '3 years (stable), 5 years (old stable)[32]', '2022-03-01', '100% Free: GNU FSDG[6] followed in Hyperbola Social Contract', 'Arch Linux', 'general', 'None', 'Active[33]', 'Max Moser, Mati Aharoni, Martin J. Muench', 'Offensive Security', '2013', '2021.4a[34]', '?', '2021-12-23', 'X', 'Debian', 'auditing, forensic, security, network', 'None', 'Active', 'Klaus Knopper', 'dev team', '2000', '8.6[35]', '?', '2019-08-08', 'X', 'Debian', 'live', 'None', 'Active', 'The XBMC Project', 'Team Kodi', '2008', '?', '?', '?', 'X', 'Debian, Ubuntu', 'multimedia', 'None', 'Inactive', 'Chris Smart', 'Dev Team', '2005', '26[36]', '?', '2017-09-16', 'X', 'Fedora', 'desktop', 'None', 'Inactive', 'LibreCMC team', 'LibreCMC team', '2010', '1.5.4[37]', '?', '2020-12-31', '100% Free: GNU FSDG[6]', 'Merged from LibreWRT', 'embedded systems', 'None', 'Active', 'Linspire, Inc.', 'Linspire, Inc.', '2001', '9.5[38]', '?', '2020-03-03', 'X', 'Ubuntu', '?', 'Commercial[39]', 'Active', 'Clement Lefebvre', 'dev team', '2006', '20.2[40]', '~3 years (LMDE); 5 years (main editions)', '2021-07-08', 'X', 'Debian(LMDE), Ubuntu (main editions)', 'desktop', 'None', 'Active', 'Jerry Bezencon', 'Linux Lite Team', '2012', '5.0[41]', '?', '2020-05-31', 'X', 'Ubuntu', 'desktop', 'None', 'Active', 'Mageia Community', 'mageia.org', '2010', '7.1[42]', '1 year', '2019-07-01', 'X', 'Mandriva Linux', 'general', 'None', 'Active', 'Mandrakesoft S.A.', 'Mandriva S.A.', '1998', '2011', '?', '2011-08-28', 'X', 'Red Hat Linux', 'general', 'Some editions are free of charge', 'Inactive', 'Roland Singer', 'dev team', '2012[43]', 'Rolling', 'Rolling', 'Rolling', 'X', 'Arch Linux', 'general', 'None', 'Active', 'Warren Woodford', 'MEPIS LLC', '2003', '11.9.90', '?', '?', 'X', 'Debian', 'desktop, server', 'None', 'Inactive', 'Cybertrust Japan', 'Cybertrust Japan', '2000', '8.4', '10 years', '2021-10-04', 'X', 'Red Hat Enterprise Linux (RHEL)', 'server', 'None', 'Active', 'Musix team', 'Musix team', '2008', '3.0.1', '?', '2014-03-13', '100% Free: GNU FSDG[6]', 'Debian', 'multimedia', 'None', 'Inactive', 'Blue Systems', 'dev team', '2009', '20.01[44]', 'as per Debian', '2020-02-23', 'X', 'Debian', 'desktop', 'None', 'Active', 'Eelco Dolstra and Armijn Hemel', 'NixOS Foundation', '2003', '21.05[45]', '0.5 years', '2021-06-01nixo', 'X', '–', 'general, server, desktop', 'None', 'Active', 'Novell', 'Novell, Inc. dev team', '2003', 'OES 2018 SP1', '?', '?', 'X', 'SUSE Linux Enterprise Server', 'server', 'Commercial[46]', 'Active', 'Stephan Raue, OpenELEC Team', 'OpenELEC Team', '2011', '8.0.4', '?', '2017-06-04', 'X', 'Kodi', 'multimedia', 'None', 'Inactive', 'SUSE Linux', 'openSUSE Project', '2006', 'Leap 15.2[47]', '3 years[48]', '2020-07-02', 'X', 'SLS/Slackware', 'general, desktop', 'None', 'Active', '?', 'OpenWrt team', '2007', '18.06.4[49]', '?', '2019-07-01', 'X', '–', 'embedded systems', 'None', 'Active', 'OpenMandriva Association', 'OpenMandriva Association', '2013', '4.1', '?', '2020-02-01', 'X', 'Mandriva Linux', 'general', 'None', 'Active', 'Oracle Corporation', 'Oracle Corporation', '2006', '8.1[50]', '?', '2019-11-17', 'X', 'Red Hat Enterprise Linux (RHEL)', 'server', 'None', 'Active', 'Parabola Hackers', 'Parabola Hackers', '2009', 'Rolling[51]', 'Rolling', '2017-05-28', '100% Free: GNU FSDG[6] followed in Parabola Social Contract', 'Arch Linux', 'general', 'None', 'Active', 'Scientific and Technological Research Council of Turkey (TÜBİTAK)', 'TÜBİTAK', '2005', '19.1[52]', '?', '2019-11-23', 'X', 'Gentoo (2011.2)  Debian', 'general', 'None', 'Active', 'Lorenzo \"Palinuro\" Faletra', 'Parrot Dev Team', '2013', '4.11.2', 'Rolling', '2021-06-03', 'X', 'Debian', 'security, desktop', 'None', 'Active', 'Alan Baghumian', 'Parsix Project', '2005', '8.15', '?', '2017-01-25', 'X', 'Debian', 'desktop', 'None', 'Inactive', 'Patrick Verner', 'Parted Magic LLC.', '2007', '2020_12_25', '?', '2020-12-25', 'X', '-', 'live, maintenance', 'Commercial[53]', 'Active', 'Bill Reynolds', 'dev team', '2003', '2020.1015[54]', 'Semi-rolling', '2020-10-14', 'X', 'Mandriva Linux', 'desktop', 'None', 'Active', 'Carl Ritchell', 'System76', '2017', '22.04[55]', '2 years for LTS releases.2–3 months after the next release for other releases.', '2022-04-25', 'X', 'Ubuntu', 'desktop, laptop', 'None', 'Active', 'Michael Zanetta, Rick Farina, Jens Pranaitis', 'Pentoo', '2005', '2019.1', '?', '2019-01-17', 'X', 'Gentoo Linux', 'auditing, security', 'None', 'Active', 'Fanthom', 'Porteus', '2010', '4.0[56]', '?', '2018-04-29', 'X', 'Slackware', 'lightweight, portable', 'None', 'Active', 'Barry Kauler', 'Puppy Foundation', '2003', '8.0[57]', '?', '2019-04-11', 'X', 'Independent, inspired from Vector linux', 'lightweight, portable', 'None', 'Active', 'Todd Weaver', 'Purism', '2009', '9.0[58]', 'Stable and Rolling', '2019-09-26', '100% Free: GNU FSDG[6]', 'Debian', 'general, security, privacy', 'None', 'Active', 'Joanna Rutkowska', 'Invisible Things Lab', '2012', '4.0.4[59]', '?', '2021-03-04', 'X', 'Xen and Fedora', 'security by compartmentalization, desktop', 'None', 'Active', 'Red Hat', 'Red Hat', '2002', '8.5[60]', '10 years[61]', '2021-11-09', 'X', 'Red Hat Linux, Fedora', 'general', 'Commercial[62][63]', 'Active', 'Red Hat', 'Red Hat', '1995', '9', '?', '2003-03-31', 'X', '–', 'server, workstation', 'None', 'Inactive', 'UCSD Supercomputing Center, Clustercorp', 'UCSD Supercomputing Center, Clustercorp', '2000', '7.0', '?', '2015-12-01', 'X', 'Red Hat Linux', 'server, workstation', 'None', 'Active', 'Rocky Enterprise Software Foundation', 'Rocky Enterprise Software Foundation', '2021', '8.5', '10 years', '2021-11-15', 'X', 'Red Hat Enterprise Linux (RHEL)', 'general', 'None', 'Active', '?', 'LLC NTC IT ROSA', '2011', 'R11[64]', '?', '2019-03-15', 'X', 'Mandriva', 'server, general', 'None', 'Active', 'Fabio Erculiani', 'dev team', '2005', '19.03[65]', '?', '2019-03-31', 'X', 'Gentoo Linux', 'general', 'None', 'Active', 'Cyrille Pontvieux, George Vlahavas, Pierrick Le Brun, Thorsten Mühlfelder', 'Salix team', '2009', '14.2', '?', '2016-08-29', 'X', 'Slackware', 'general', 'None', 'Active', 'CERN, Fermilab', 'dev team', '2004', '7.6[66]', '?', '2018-12-03', 'X', 'Red Hat Linux, Red Hat Enterprise Linux (RHEL)', 'server, workstation', 'None', 'Inactive', 'Patrick Volkerding', 'dev team', '1993', '15.0[67]', '?', '2022-02-02', 'X', 'Softlanding Linux System (SLS)', 'general', 'None', 'Active', 'Tomas Matejicek', 'Tomas Matejicek', '2002', '9.11.0[68]', '?', '2019-09-14', 'X', 'Debian, Slackware (until Slax 9)', 'live', 'None', 'Active', 'Christophe Lincoln', 'dev team', '2008', 'Rolling', 'Rolling', '2017-12-03', 'X', 'Independent', 'portable', 'None', 'Active', 'Ikey Doherty', 'dev team', '2005', 'Rolling', 'Rolling', '2021-02-03', 'X', '–', 'desktop', 'None', 'Active', 'Arjen Balfoort', 'dev team', '2013', '201902[69]', 'Debian packages as per Debian', '2019-03-03', 'X', 'Debian', 'desktop', 'None', 'Active', '?', 'Sparky Linux team', '2012', '6.0[70]', '?', '2021-08-19', 'X', 'Debian', 'general, video games', 'None', 'Active', 'Ryan Abrams, Eric Schabell', 'dev team', '2002', '0.62-11', '?', '2017-10-22', 'Source Mage Social Contract', 'Sorcerer', 'general', 'None', 'Active', 'Valve', 'Valve', '2013', '2.195[71]', '?', '2019-07-19', 'X', 'Debian (2.0)  Arch Linux (3.0)', 'video games', 'None', 'Active', 'SUSE', 'SUSE', '2000', '15SP2', '13 years per version[72]', '2020-07-21', 'Common code base for x86-64, Power, System z, Arm64', 'Slackware, Jurix', 'edge, workstation, server, supercomputer', 'Commercial[73]', 'Active', '?', 'Tails Development Team', '2009', '4.25[74]', '–[g 3]', '2021-12-07', 'X', 'Debian', 'security-focused aimed for anonymity and privacy', 'None', 'Active', 'Robert Shingledecker', 'Team Tiny Core', '2009', '12.0[75]', '?', '2021-02-17', 'X', 'Independent, inspired from Damn Small Linux', 'portable', 'None', 'Active', 'Rubén Rodríguez Pérez (quidam)', 'Rubén Rodríguez Pérez (quidam)', '2005', '10.0[g 4]', '3 years', '2020-10-16', '100% Free: GNU FSDG[6]', 'Ubuntu LTS', 'desktop', 'None', 'Active', 'Alon Swartz, Liraz Siri', 'TurnKey GNU/Linux Team', '2008', '16.0 Release #12[76]', 'Debian packages as per Debian; TurnKey packages for life of current major version (plus backports per request)', '2020-12-22', 'Debian Social Contract and DFSG', 'Debian', 'server based software appliance library aiming to balance security and ease of use', 'None', 'Active', 'Canonical Ltd.', 'Canonical Ltd.', '2004', '22.04 LTS[78]', 'Standard releases 1 year, LTS releases 5 years. Flavor LTS releases 3 or 5 years. Ubuntu Pro 10 years.', '2021-04-22', 'X', 'Debian', 'general, server, desktop, supercomputer, IBM mainframe', 'None', 'Active', 'Univention GmbH', 'Univention GmbH', '2004', '5.0-2[79]', \"up to 6 months for the free Core Edition; if maintenance is purchased, it's up to 7 years, see:[80]\", '2022-06-30', 'X', 'Debian', 'home, business, and school', 'Core Edition is free of charge', 'Active', 'Diego Saravia, Daniel Olivera', 'UTUTO dev team', '2000', 'XS 2012', '?', '2012-04-27', '100% Free: GNU FSDG[6]', 'Ututo XS: Gentoo Linux, Ututo UL: Ubuntu', 'general', 'None', 'Inactive', 'Robert S. Lange', 'dev team', '1999', 'VL 7.2[81]', '?', '2017-08-28', 'X', 'Slackware', 'desktop', 'None', 'Inactive', 'Juan Romero Pardines', 'Juan RP and contributors', '2008', 'Rolling', 'Rolling', '2019-11-09', 'X', 'Independent, partially inspired by FreeBSD/NetBSD', 'general', 'None', 'Active', 'Kai Hendry', 'Webconverger Limited', '2007', '35.0', '?', '2016-05-19', 'X', 'Debian', 'kiosk software, digital signage', 'Commercial', 'Inactive', 'Xandros Incorporated', 'Xandros Incorporated', '2001', '?', '?', '2007-07-26', 'X', 'Corel Linux', '?', 'Commercial', 'Inactive', 'eBox Technologies', 'eBox Technologies', '2005', '6.2[82]', '?', '2020-06-04', 'X', 'Debian, Ubuntu', 'small business server', 'Some editions are free of charge', '?', 'Jean-Philippe Guillemin', 'dev team', '2004', 'Rolling[83]', '?', '2020-12-10', 'X', 'Slackware', 'general', 'None', 'Active', 'Zorin Group', 'Zorin Group', '2009', 'OS 16.1[84]', '?', '2022-03-10', 'X', 'Ubuntu', 'general, desktop', 'Zorin OS Lite & Core are free, while Business and Ultimate are paid', 'Active']\n"
          ]
        }
      ]
    },
    {
      "cell_type": "code",
      "source": [
        "column_names = [\"Founder\", \n",
        "                \"Maintainer\", \n",
        "                \"Initial_Release_Year\", \n",
        "                \"Current_Stable_Version\", \n",
        "                \"Security_Updates\", \n",
        "                \"Release_Date\", \n",
        "                \"System_Distribution_Commitment\", \n",
        "                \"Forked_From\", \n",
        "                \"Target_Audience\", \n",
        "                \"Cost\", \n",
        "                \"Status\"]\n",
        "\n",
        "dictionary = {\"Distribution\": distribution}\n",
        "\n",
        "for idx, key in enumerate(column_names):\n",
        "  dictionary[key] = columns[idx:][::11]\n",
        "\n",
        "df = pd.DataFrame(data = dictionary)\n",
        "print(df.tail())"
      ],
      "metadata": {
        "colab": {
          "base_uri": "https://localhost:8080/"
        },
        "id": "5ZnbvR1TPuOl",
        "outputId": "79e540a6-65e7-4b9a-abe1-ef9364520731"
      },
      "execution_count": 16,
      "outputs": [
        {
          "output_type": "stream",
          "name": "stdout",
          "text": [
            "    Distribution                  Founder            Maintainer  \\\n",
            "93  Webconverger               Kai Hendry  Webconverger Limited   \n",
            "94       Xandros     Xandros Incorporated  Xandros Incorporated   \n",
            "95       Zentyal        eBox Technologies     eBox Technologies   \n",
            "96       Zenwalk  Jean-Philippe Guillemin              dev team   \n",
            "97      Zorin OS              Zorin Group           Zorin Group   \n",
            "\n",
            "   Initial_Release_Year Current_Stable_Version Security_Updates Release_Date  \\\n",
            "93                 2007                   35.0                ?   2016-05-19   \n",
            "94                 2001                      ?                ?   2007-07-26   \n",
            "95                 2005                6.2[82]                ?   2020-06-04   \n",
            "96                 2004            Rolling[83]                ?   2020-12-10   \n",
            "97                 2009            OS 16.1[84]                ?   2022-03-10   \n",
            "\n",
            "   System_Distribution_Commitment     Forked_From  \\\n",
            "93                              X          Debian   \n",
            "94                              X     Corel Linux   \n",
            "95                              X  Debian, Ubuntu   \n",
            "96                              X       Slackware   \n",
            "97                              X          Ubuntu   \n",
            "\n",
            "                    Target_Audience  \\\n",
            "93  kiosk software, digital signage   \n",
            "94                                ?   \n",
            "95            small business server   \n",
            "96                          general   \n",
            "97                 general, desktop   \n",
            "\n",
            "                                                 Cost    Status  \n",
            "93                                         Commercial  Inactive  \n",
            "94                                         Commercial  Inactive  \n",
            "95                   Some editions are free of charge         ?  \n",
            "96                                               None    Active  \n",
            "97  Zorin OS Lite & Core are free, while Business ...    Active  \n"
          ]
        }
      ]
    },
    {
      "cell_type": "code",
      "source": [
        "#select every 11th item\n",
        "columns[0:][::11]\n",
        "columns[1:][::11]\n",
        "columns[2:][::11]\n",
        "columns[3:][::11]\n",
        "columns[4:][::11]\n",
        "columns[5:][::11]\n",
        "columns[6:][::11]\n",
        "columns[7:][::11]\n",
        "columns[8:][::11]\n",
        "columns[9:][::11]\n",
        "columns[10:][::11]"
      ],
      "metadata": {
        "id": "jtdz3ppQOvR2"
      },
      "execution_count": null,
      "outputs": []
    },
    {
      "cell_type": "code",
      "source": [
        "# insert data into a database\n",
        "connection = sqlite3.connect(\"linux_distro.db\")\n",
        "cursor = connection.cursor()\n",
        "\n",
        "cursor.execute(\"create table linux (Distribution, \" + \",\".join(column_names)+ \")\")\n",
        "for i in range(len(df)):\n",
        "    cursor.execute(\"insert into linux values (?,?,?,?,?,?,?,?,?,?,?,?)\", df.iloc[i])\n",
        "\n",
        "connection.commit()\n",
        "\n",
        "connection.close()"
      ],
      "metadata": {
        "id": "y9JS-MM4RZtZ"
      },
      "execution_count": 20,
      "outputs": []
    }
  ]
}