{
  "nbformat": 4,
  "nbformat_minor": 0,
  "metadata": {
    "colab": {
      "name": "mechanicalSoup_imageSaver",
      "provenance": [],
      "authorship_tag": "ABX9TyN6ioNIGRfdKr20wy2l7Cdf",
      "include_colab_link": true
    },
    "kernelspec": {
      "name": "python3",
      "display_name": "Python 3"
    },
    "language_info": {
      "name": "python"
    }
  },
  "cells": [
    {
      "cell_type": "markdown",
      "metadata": {
        "id": "view-in-github",
        "colab_type": "text"
      },
      "source": [
        "<a href=\"https://colab.research.google.com/github/HugoStigletz/Data-Analytics-Portfolio/blob/main/mechanicalSoup_imageSaver.ipynb\" target=\"_parent\"><img src=\"https://colab.research.google.com/assets/colab-badge.svg\" alt=\"Open In Colab\"/></a>"
      ]
    },
    {
      "cell_type": "code",
      "source": [
        "pip install mechanicalsoup"
      ],
      "metadata": {
        "colab": {
          "base_uri": "https://localhost:8080/"
        },
        "id": "j5KloHJqfR3r",
        "outputId": "bca904ce-0bb5-454f-c228-35eba9bc430f"
      },
      "execution_count": 25,
      "outputs": [
        {
          "output_type": "stream",
          "name": "stdout",
          "text": [
            "Looking in indexes: https://pypi.org/simple, https://us-python.pkg.dev/colab-wheels/public/simple/\n",
            "Requirement already satisfied: mechanicalsoup in /usr/local/lib/python3.7/dist-packages (1.1.0)\n",
            "Requirement already satisfied: beautifulsoup4>=4.7 in /usr/local/lib/python3.7/dist-packages (from mechanicalsoup) (4.11.1)\n",
            "Requirement already satisfied: requests>=2.22.0 in /usr/local/lib/python3.7/dist-packages (from mechanicalsoup) (2.23.0)\n",
            "Requirement already satisfied: lxml in /usr/local/lib/python3.7/dist-packages (from mechanicalsoup) (4.2.6)\n",
            "Requirement already satisfied: soupsieve>1.2 in /usr/local/lib/python3.7/dist-packages (from beautifulsoup4>=4.7->mechanicalsoup) (2.3.2.post1)\n",
            "Requirement already satisfied: chardet<4,>=3.0.2 in /usr/local/lib/python3.7/dist-packages (from requests>=2.22.0->mechanicalsoup) (3.0.4)\n",
            "Requirement already satisfied: idna<3,>=2.5 in /usr/local/lib/python3.7/dist-packages (from requests>=2.22.0->mechanicalsoup) (2.10)\n",
            "Requirement already satisfied: urllib3!=1.25.0,!=1.25.1,<1.26,>=1.21.1 in /usr/local/lib/python3.7/dist-packages (from requests>=2.22.0->mechanicalsoup) (1.24.3)\n",
            "Requirement already satisfied: certifi>=2017.4.17 in /usr/local/lib/python3.7/dist-packages (from requests>=2.22.0->mechanicalsoup) (2022.6.15)\n"
          ]
        }
      ]
    },
    {
      "cell_type": "code",
      "execution_count": 26,
      "metadata": {
        "colab": {
          "base_uri": "https://localhost:8080/"
        },
        "id": "xahUTzIRd03o",
        "outputId": "8adea5c3-77c2-4052-acf8-59289d091116"
      },
      "outputs": [
        {
          "output_type": "stream",
          "name": "stdout",
          "text": [
            "https://www.google.com/imghp?hl=en\n"
          ]
        }
      ],
      "source": [
        "import mechanicalsoup\n",
        "\n",
        "browser = mechanicalsoup.StatefulBrowser()\n",
        "url = \"https://www.google.com/imghp?hl=en\"\n",
        "\n",
        "browser.open(url)\n",
        "print(browser.get_url())"
      ]
    },
    {
      "cell_type": "code",
      "source": [
        "#get HTML\n",
        "browser.get_current_page()\n",
        "\n",
        "#target the search input\n",
        "browser.select_form()\n",
        "browser.get_current_form().print_summary()\n",
        "\n",
        "#search for a term (--------------change the term and run all the code to create image files of the key word-----------------)\n",
        "search_term = 'Rick and Morty'\n",
        "browser[\"q\"] = search_term\n",
        "\n",
        "#submit/\"click\" search\n",
        "browser.launch_browser()\n",
        "response = browser.submit_selected()\n",
        "\n",
        "print('new url:', browser.get_url())\n",
        "print('my response:\\n', response.text[:500])"
      ],
      "metadata": {
        "colab": {
          "base_uri": "https://localhost:8080/"
        },
        "id": "6zpnl0mCfHbt",
        "outputId": "09922901-60dc-48ef-f8aa-a2ce43b304f0"
      },
      "execution_count": 27,
      "outputs": [
        {
          "output_type": "stream",
          "name": "stdout",
          "text": [
            "<input name=\"tbm\" type=\"hidden\" value=\"isch\"/>\n",
            "<input name=\"ie\" type=\"hidden\" value=\"ISO-8859-1\"/>\n",
            "<input name=\"hl\" type=\"hidden\" value=\"en\"/>\n",
            "<input name=\"source\" type=\"hidden\" value=\"hp\"/>\n",
            "<input name=\"biw\" type=\"hidden\"/>\n",
            "<input name=\"bih\" type=\"hidden\"/>\n",
            "<input autocomplete=\"off\" class=\"lst\" maxlength=\"2048\" name=\"q\" size=\"57\" style=\"margin:0;padding:5px 8px 0 6px;vertical-align:top;color:#000\" title=\"Search Images\" value=\"\"/>\n",
            "<input class=\"lsb\" name=\"btnG\" type=\"submit\" value=\"Search Images\"/>\n",
            "<input id=\"gbv\" name=\"gbv\" type=\"hidden\" value=\"1\"/>\n",
            "new url: https://www.google.com/search?tbm=isch&ie=ISO-8859-1&hl=en&source=hp&biw=&bih=&q=Rick+and+Morty&btnG=Search+Images&gbv=1\n",
            "my response:\n",
            " <!DOCTYPE html PUBLIC \"-//WAPFORUM//DTD XHTML Mobile 1.0//EN\" \"http://www.wapforum.org/DTD/xhtml-mobile10.dtd\"><html xmlns=\"http://www.w3.org/1999/xhtml\" lang=\"en\"><head><meta content=\"application/xhtml+xml; charset=UTF-8\" http-equiv=\"Content-Type\"/><meta content=\"no-cache\" name=\"Cache-Control\"/><title>Rick and Morty - Google Search</title><style>a{text-decoration:none;color:inherit}a:hover{text-decoration:underline}a img{border:0}body{font-family:arial,sans-serif;padding:8px;margin:0 auto;max-w\n"
          ]
        }
      ]
    },
    {
      "cell_type": "code",
      "source": [
        "#open new URL\n",
        "new_url = browser.get_url()\n",
        "browser.open(new_url)\n",
        "\n",
        "#get HTML\n",
        "page = browser.get_current_page()\n",
        "all_images = page.find_all('img')\n",
        "\n",
        "#target the source attribute\n",
        "image_source = []\n",
        "for image in all_images:\n",
        "    image = image.get('src')\n",
        "    image_source.append(image)\n",
        "\n",
        "image_source"
      ],
      "metadata": {
        "colab": {
          "base_uri": "https://localhost:8080/"
        },
        "id": "CMQ9crcnmXUp",
        "outputId": "3fa56a6b-bb6c-482a-ddfa-0b9ae90965ba"
      },
      "execution_count": 28,
      "outputs": [
        {
          "output_type": "execute_result",
          "data": {
            "text/plain": [
              "['/images/branding/searchlogo/1x/googlelogo_desk_heirloom_color_150x55dp.gif',\n",
              " 'https://encrypted-tbn0.gstatic.com/images?q=tbn:ANd9GcS3CI1VaZGPFnLYfCfF6V29yNcREWApoeoafFVJ74q7mF8VVG-KKfmELAC9-w&s',\n",
              " 'https://encrypted-tbn0.gstatic.com/images?q=tbn:ANd9GcTSfg86YZYfJ6UMbjd2EiuA3GEJnZODVXieQauVMpHwqyflLn6f39HUb377RoI&s',\n",
              " 'https://encrypted-tbn0.gstatic.com/images?q=tbn:ANd9GcTHhMR_0cMF7jpmFrbBE309Vj3vYjfn3QbVyITEPOyTG36gEgys5cNNkycLxVQ&s',\n",
              " 'https://encrypted-tbn0.gstatic.com/images?q=tbn:ANd9GcQ02YQoe_nDWWdJX9mvbllwu8vEkxAhrsHzjwa29uhBkOwpB73Lrv6eurbbuTc&s',\n",
              " 'https://encrypted-tbn0.gstatic.com/images?q=tbn:ANd9GcTF_xwxmfL6ny3mZntQS5d_baPaJNqkZ4O5leMCxzTPcXMAF9pryAw_P-2xJw&s',\n",
              " 'https://encrypted-tbn0.gstatic.com/images?q=tbn:ANd9GcTylUkpjXHzG0A_hTwg-UiwTyehd51ImdP5csRt_HE7W1ikNZ0qn2Rce-rZPQ&s',\n",
              " 'https://encrypted-tbn0.gstatic.com/images?q=tbn:ANd9GcSBUuHMS9uax3wOxYsacl73NK3so7kz0nuMajYlAIDDfMwvmvPtk6BRbPZNdw&s',\n",
              " 'https://encrypted-tbn0.gstatic.com/images?q=tbn:ANd9GcScZkoGtGPYsregIjw_xadWRFv6tzdhQstwiCd3cgPO_vdL4urTFURReRcu6Q&s',\n",
              " 'https://encrypted-tbn0.gstatic.com/images?q=tbn:ANd9GcSDOiOmWEHdTUyvt4kPI8XtNkrRr7J5tcxgFALBMzMvM-FOH1q6Rzvxl8D1zg&s',\n",
              " 'https://encrypted-tbn0.gstatic.com/images?q=tbn:ANd9GcTwJ7R74xOoHgBjxs_mig4Pg-rALO7Eh78f5x_E2WSusqlFak0q3KlP1v9L2ZQ&s',\n",
              " 'https://encrypted-tbn0.gstatic.com/images?q=tbn:ANd9GcSpamfwJUlaKCZZyau7fUSd3LscqowNmsBk_w379vNOAU7LWVpVZFrZH_jcPA&s',\n",
              " 'https://encrypted-tbn0.gstatic.com/images?q=tbn:ANd9GcRYTM26CW-mofMJm96Qd4Uas9TLOVRSqhlwr1rKpKsl3jcAI1Gu6mNSFmBGsi0&s',\n",
              " 'https://encrypted-tbn0.gstatic.com/images?q=tbn:ANd9GcStHgbinDB9GQXsuZP778ETSL5nhhIMlqztvrLi1ELPxMsS0mIK29BWFK87DA&s',\n",
              " 'https://encrypted-tbn0.gstatic.com/images?q=tbn:ANd9GcTfHhFsmLexsluLT_GmkrUDvLYSILjwluF5sfg0nvBpCo6kASM6uuaOXWyqVr8&s',\n",
              " 'https://encrypted-tbn0.gstatic.com/images?q=tbn:ANd9GcRqhO1ZRG96tzmfGYqWrx4PolqVW1CuGygfI3TBNt9IFX2fDmU_DJ8nU0uaUw&s',\n",
              " 'https://encrypted-tbn0.gstatic.com/images?q=tbn:ANd9GcTcTtsh6s16N9ji4oVrMonHpaNSn4ANYabNjEXhQyAia0w6DZhMiK8NM7N4z_g&s',\n",
              " 'https://encrypted-tbn0.gstatic.com/images?q=tbn:ANd9GcR6QQu14u-xce18UPLLOpRUJpajUaI7yXMtzdTpoKYxibkggibr9Bkqa4KpLQ&s',\n",
              " 'https://encrypted-tbn0.gstatic.com/images?q=tbn:ANd9GcQ4CBvcKE9hKramBYx3PiKsDzo4f-ibh1npGyE7wstUTrJy9_4IRqjnxOU5FE4&s',\n",
              " 'https://encrypted-tbn0.gstatic.com/images?q=tbn:ANd9GcSdT6V6QZ1utkqtT1dmcl_pKKEGF5_pfImXZIN-Ngy3t8GN3g42vufxh_1GmE0&s',\n",
              " 'https://encrypted-tbn0.gstatic.com/images?q=tbn:ANd9GcQueZeXx_EjrOtnfGjztoZzS20XDY8D6kfDNjEVQn9AVwcMbngdDMC6znhB08I&s']"
            ]
          },
          "metadata": {},
          "execution_count": 28
        }
      ]
    },
    {
      "cell_type": "code",
      "source": [
        "image_source = [image for image in image_source if image.startswith('https')]\n",
        "image_source"
      ],
      "metadata": {
        "colab": {
          "base_uri": "https://localhost:8080/"
        },
        "id": "C1ERBDWhobsR",
        "outputId": "aaedf176-9827-4252-a8c0-1f8a3d9438e9"
      },
      "execution_count": 29,
      "outputs": [
        {
          "output_type": "execute_result",
          "data": {
            "text/plain": [
              "['https://encrypted-tbn0.gstatic.com/images?q=tbn:ANd9GcS3CI1VaZGPFnLYfCfF6V29yNcREWApoeoafFVJ74q7mF8VVG-KKfmELAC9-w&s',\n",
              " 'https://encrypted-tbn0.gstatic.com/images?q=tbn:ANd9GcTSfg86YZYfJ6UMbjd2EiuA3GEJnZODVXieQauVMpHwqyflLn6f39HUb377RoI&s',\n",
              " 'https://encrypted-tbn0.gstatic.com/images?q=tbn:ANd9GcTHhMR_0cMF7jpmFrbBE309Vj3vYjfn3QbVyITEPOyTG36gEgys5cNNkycLxVQ&s',\n",
              " 'https://encrypted-tbn0.gstatic.com/images?q=tbn:ANd9GcQ02YQoe_nDWWdJX9mvbllwu8vEkxAhrsHzjwa29uhBkOwpB73Lrv6eurbbuTc&s',\n",
              " 'https://encrypted-tbn0.gstatic.com/images?q=tbn:ANd9GcTF_xwxmfL6ny3mZntQS5d_baPaJNqkZ4O5leMCxzTPcXMAF9pryAw_P-2xJw&s',\n",
              " 'https://encrypted-tbn0.gstatic.com/images?q=tbn:ANd9GcTylUkpjXHzG0A_hTwg-UiwTyehd51ImdP5csRt_HE7W1ikNZ0qn2Rce-rZPQ&s',\n",
              " 'https://encrypted-tbn0.gstatic.com/images?q=tbn:ANd9GcSBUuHMS9uax3wOxYsacl73NK3so7kz0nuMajYlAIDDfMwvmvPtk6BRbPZNdw&s',\n",
              " 'https://encrypted-tbn0.gstatic.com/images?q=tbn:ANd9GcScZkoGtGPYsregIjw_xadWRFv6tzdhQstwiCd3cgPO_vdL4urTFURReRcu6Q&s',\n",
              " 'https://encrypted-tbn0.gstatic.com/images?q=tbn:ANd9GcSDOiOmWEHdTUyvt4kPI8XtNkrRr7J5tcxgFALBMzMvM-FOH1q6Rzvxl8D1zg&s',\n",
              " 'https://encrypted-tbn0.gstatic.com/images?q=tbn:ANd9GcTwJ7R74xOoHgBjxs_mig4Pg-rALO7Eh78f5x_E2WSusqlFak0q3KlP1v9L2ZQ&s',\n",
              " 'https://encrypted-tbn0.gstatic.com/images?q=tbn:ANd9GcSpamfwJUlaKCZZyau7fUSd3LscqowNmsBk_w379vNOAU7LWVpVZFrZH_jcPA&s',\n",
              " 'https://encrypted-tbn0.gstatic.com/images?q=tbn:ANd9GcRYTM26CW-mofMJm96Qd4Uas9TLOVRSqhlwr1rKpKsl3jcAI1Gu6mNSFmBGsi0&s',\n",
              " 'https://encrypted-tbn0.gstatic.com/images?q=tbn:ANd9GcStHgbinDB9GQXsuZP778ETSL5nhhIMlqztvrLi1ELPxMsS0mIK29BWFK87DA&s',\n",
              " 'https://encrypted-tbn0.gstatic.com/images?q=tbn:ANd9GcTfHhFsmLexsluLT_GmkrUDvLYSILjwluF5sfg0nvBpCo6kASM6uuaOXWyqVr8&s',\n",
              " 'https://encrypted-tbn0.gstatic.com/images?q=tbn:ANd9GcRqhO1ZRG96tzmfGYqWrx4PolqVW1CuGygfI3TBNt9IFX2fDmU_DJ8nU0uaUw&s',\n",
              " 'https://encrypted-tbn0.gstatic.com/images?q=tbn:ANd9GcTcTtsh6s16N9ji4oVrMonHpaNSn4ANYabNjEXhQyAia0w6DZhMiK8NM7N4z_g&s',\n",
              " 'https://encrypted-tbn0.gstatic.com/images?q=tbn:ANd9GcR6QQu14u-xce18UPLLOpRUJpajUaI7yXMtzdTpoKYxibkggibr9Bkqa4KpLQ&s',\n",
              " 'https://encrypted-tbn0.gstatic.com/images?q=tbn:ANd9GcQ4CBvcKE9hKramBYx3PiKsDzo4f-ibh1npGyE7wstUTrJy9_4IRqjnxOU5FE4&s',\n",
              " 'https://encrypted-tbn0.gstatic.com/images?q=tbn:ANd9GcSdT6V6QZ1utkqtT1dmcl_pKKEGF5_pfImXZIN-Ngy3t8GN3g42vufxh_1GmE0&s',\n",
              " 'https://encrypted-tbn0.gstatic.com/images?q=tbn:ANd9GcQueZeXx_EjrOtnfGjztoZzS20XDY8D6kfDNjEVQn9AVwcMbngdDMC6znhB08I&s']"
            ]
          },
          "metadata": {},
          "execution_count": 29
        }
      ]
    },
    {
      "cell_type": "code",
      "source": [
        "pip install wget"
      ],
      "metadata": {
        "colab": {
          "base_uri": "https://localhost:8080/"
        },
        "id": "mhBLXKR6qHDu",
        "outputId": "174c5fbd-d378-4bf8-8d0e-293a0808efd2"
      },
      "execution_count": 30,
      "outputs": [
        {
          "output_type": "stream",
          "name": "stdout",
          "text": [
            "Looking in indexes: https://pypi.org/simple, https://us-python.pkg.dev/colab-wheels/public/simple/\n",
            "Requirement already satisfied: wget in /usr/local/lib/python3.7/dist-packages (3.2)\n"
          ]
        }
      ]
    },
    {
      "cell_type": "code",
      "source": [
        "import os \n",
        "import wget\n",
        "\n",
        "path = os.getcwd()\n",
        "path = os.path.join(path, search_term)\n",
        "#path = os.path.join(path, search_term + \"s\") or anything you want added to the end of the new folder name in this case a letter 's'\n",
        "\n",
        "#create the directory\n",
        "os.mkdir(path)\n",
        "\n",
        "path"
      ],
      "metadata": {
        "colab": {
          "base_uri": "https://localhost:8080/",
          "height": 36
        },
        "id": "nPzldb5Kpefd",
        "outputId": "60235c1e-006c-4d46-c0fa-c6096079f91e"
      },
      "execution_count": 31,
      "outputs": [
        {
          "output_type": "execute_result",
          "data": {
            "text/plain": [
              "'/content/Rick and Mortys'"
            ],
            "application/vnd.google.colaboratory.intrinsic+json": {
              "type": "string"
            }
          },
          "metadata": {},
          "execution_count": 31
        }
      ]
    },
    {
      "cell_type": "code",
      "source": [
        "#download images\n",
        "counter = 0\n",
        "for image in image_source:\n",
        "    save_as = os.path.join(path, search_term + str(counter) + '.jpg')\n",
        "    wget.download(image, save_as)\n",
        "    counter +=1"
      ],
      "metadata": {
        "id": "VixyShIgqeL4"
      },
      "execution_count": 32,
      "outputs": []
    }
  ]
}