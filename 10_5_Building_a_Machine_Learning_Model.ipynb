{
  "nbformat": 4,
  "nbformat_minor": 0,
  "metadata": {
    "colab": {
      "provenance": [],
      "collapsed_sections": [],
      "include_colab_link": true
    },
    "kernelspec": {
      "name": "python3",
      "display_name": "Python 3"
    },
    "language_info": {
      "name": "python"
    }
  },
  "cells": [
    {
      "cell_type": "markdown",
      "metadata": {
        "id": "view-in-github",
        "colab_type": "text"
      },
      "source": [
        "<a href=\"https://colab.research.google.com/github/HugoStigletz/Data-Analytics-Portfolio/blob/main/10_5_Building_a_Machine_Learning_Model.ipynb\" target=\"_parent\"><img src=\"https://colab.research.google.com/assets/colab-badge.svg\" alt=\"Open In Colab\"/></a>"
      ]
    },
    {
      "cell_type": "markdown",
      "metadata": {
        "id": "jtDfDnucNFhM"
      },
      "source": [
        "#Lesson 11.2.3 Activity\n",
        "\n",
        "Right now, we are using a feature-engineered variable that is (more or less) an average of the parents' heights. Sir Francis Galton made the choice to model the data this way because, when he first analyzed it, multiple linear regression hadn't been developed yet!\n",
        "\n",
        "However, we now have the tools to model the data using each parent's height separately. Adding an additional feature to our model (using Father and Mother rather than MidParent) might allow us to improve our model predictions. Or it might send us back into the territory of overfitting.\n",
        "\n",
        "Let's see what happens!\n",
        "\n"
      ]
    },
    {
      "cell_type": "markdown",
      "metadata": {
        "id": "YVDbdDBDQVoS"
      },
      "source": [
        "#Step 1: Download and save the `heights.csv` dataset from the class materials  \n",
        "\n",
        "* Make a note of where you saved the file on your computer."
      ]
    },
    {
      "cell_type": "markdown",
      "metadata": {
        "id": "63UbfVKeQfsl"
      },
      "source": [
        "#Step 2: Upload the heights.csv dataset by running the following code block \n",
        "\n",
        "* When prompted, navigate to and select the `heights.csv` dataset where you saved it on your computer.\n",
        "* This is a pretty large dataset, so it may take a little while."
      ]
    },
    {
      "cell_type": "code",
      "metadata": {
        "id": "bxSC_MgQQUis"
      },
      "source": [
        "#Step 2\n",
        "\n",
        "'''from google.colab import files\n",
        "heights = files.upload()'''"
      ],
      "execution_count": null,
      "outputs": []
    },
    {
      "cell_type": "markdown",
      "metadata": {
        "id": "6mQ3_VhcR1WN"
      },
      "source": [
        "#Step 3: Import necessary packages\n",
        "\n",
        "```\n",
        "* import pandas as pd\n",
        "* from sklearn.model_selection import train_test_split\n",
        "* from sklearn.linear_model import LinearRegression\n",
        "* from sklearn.metrics import r2_score, mean_squared_error as MSE\n",
        "\n",
        "```"
      ]
    },
    {
      "cell_type": "code",
      "metadata": {
        "id": "oGQsWu2bRpp6"
      },
      "source": [
        "#Step 3\n",
        "import pandas as pd\n",
        "import numpy as np\n",
        "from sklearn.model_selection import train_test_split\n",
        "import seaborn as sns\n",
        "from statsmodels.formula.api import ols\n",
        "from sklearn.linear_model import LinearRegression\n",
        "from sklearn.metrics import r2_score, mean_squared_error as MSE"
      ],
      "execution_count": null,
      "outputs": []
    },
    {
      "cell_type": "markdown",
      "metadata": {
        "id": "N3aT3Y28TLRX"
      },
      "source": [
        "# Step 4: Create a Pandas DataFrame from the CSV file\n",
        "* Name the DataFrame `heights`.\n",
        "* Print the first five observations of `heights`.  Note the kinds of data it contains."
      ]
    },
    {
      "cell_type": "code",
      "metadata": {
        "id": "zR3wX0-OTach",
        "colab": {
          "base_uri": "https://localhost:8080/",
          "height": 424
        },
        "outputId": "9abb391c-2479-45a8-b7cd-f9178fb191f9"
      },
      "source": [
        "#Step 4\n",
        "heights = pd.read_csv('/content/heights.csv')\n",
        "\n",
        "heights"
      ],
      "execution_count": null,
      "outputs": [
        {
          "output_type": "execute_result",
          "data": {
            "text/plain": [
              "     Family  Father  Mother Gender  Height  Kids  MidParent\n",
              "0         1    78.5    67.0      M    73.2     4      75.43\n",
              "1         1    78.5    67.0      F    69.2     4      75.43\n",
              "2         1    78.5    67.0      F    69.0     4      75.43\n",
              "3         1    78.5    67.0      F    69.0     4      75.43\n",
              "4         2    75.5    66.5      M    73.5     4      73.66\n",
              "..      ...     ...     ...    ...     ...   ...        ...\n",
              "893     205    68.5    65.0      M    68.5     8      69.35\n",
              "894     205    68.5    65.0      M    67.7     8      69.35\n",
              "895     205    68.5    65.0      F    64.0     8      69.35\n",
              "896     205    68.5    65.0      F    63.5     8      69.35\n",
              "897     205    68.5    65.0      F    63.0     8      69.35\n",
              "\n",
              "[898 rows x 7 columns]"
            ],
            "text/html": [
              "\n",
              "  <div id=\"df-1c2f5ce9-4624-4c87-8d12-44aa8a37f98a\">\n",
              "    <div class=\"colab-df-container\">\n",
              "      <div>\n",
              "<style scoped>\n",
              "    .dataframe tbody tr th:only-of-type {\n",
              "        vertical-align: middle;\n",
              "    }\n",
              "\n",
              "    .dataframe tbody tr th {\n",
              "        vertical-align: top;\n",
              "    }\n",
              "\n",
              "    .dataframe thead th {\n",
              "        text-align: right;\n",
              "    }\n",
              "</style>\n",
              "<table border=\"1\" class=\"dataframe\">\n",
              "  <thead>\n",
              "    <tr style=\"text-align: right;\">\n",
              "      <th></th>\n",
              "      <th>Family</th>\n",
              "      <th>Father</th>\n",
              "      <th>Mother</th>\n",
              "      <th>Gender</th>\n",
              "      <th>Height</th>\n",
              "      <th>Kids</th>\n",
              "      <th>MidParent</th>\n",
              "    </tr>\n",
              "  </thead>\n",
              "  <tbody>\n",
              "    <tr>\n",
              "      <th>0</th>\n",
              "      <td>1</td>\n",
              "      <td>78.5</td>\n",
              "      <td>67.0</td>\n",
              "      <td>M</td>\n",
              "      <td>73.2</td>\n",
              "      <td>4</td>\n",
              "      <td>75.43</td>\n",
              "    </tr>\n",
              "    <tr>\n",
              "      <th>1</th>\n",
              "      <td>1</td>\n",
              "      <td>78.5</td>\n",
              "      <td>67.0</td>\n",
              "      <td>F</td>\n",
              "      <td>69.2</td>\n",
              "      <td>4</td>\n",
              "      <td>75.43</td>\n",
              "    </tr>\n",
              "    <tr>\n",
              "      <th>2</th>\n",
              "      <td>1</td>\n",
              "      <td>78.5</td>\n",
              "      <td>67.0</td>\n",
              "      <td>F</td>\n",
              "      <td>69.0</td>\n",
              "      <td>4</td>\n",
              "      <td>75.43</td>\n",
              "    </tr>\n",
              "    <tr>\n",
              "      <th>3</th>\n",
              "      <td>1</td>\n",
              "      <td>78.5</td>\n",
              "      <td>67.0</td>\n",
              "      <td>F</td>\n",
              "      <td>69.0</td>\n",
              "      <td>4</td>\n",
              "      <td>75.43</td>\n",
              "    </tr>\n",
              "    <tr>\n",
              "      <th>4</th>\n",
              "      <td>2</td>\n",
              "      <td>75.5</td>\n",
              "      <td>66.5</td>\n",
              "      <td>M</td>\n",
              "      <td>73.5</td>\n",
              "      <td>4</td>\n",
              "      <td>73.66</td>\n",
              "    </tr>\n",
              "    <tr>\n",
              "      <th>...</th>\n",
              "      <td>...</td>\n",
              "      <td>...</td>\n",
              "      <td>...</td>\n",
              "      <td>...</td>\n",
              "      <td>...</td>\n",
              "      <td>...</td>\n",
              "      <td>...</td>\n",
              "    </tr>\n",
              "    <tr>\n",
              "      <th>893</th>\n",
              "      <td>205</td>\n",
              "      <td>68.5</td>\n",
              "      <td>65.0</td>\n",
              "      <td>M</td>\n",
              "      <td>68.5</td>\n",
              "      <td>8</td>\n",
              "      <td>69.35</td>\n",
              "    </tr>\n",
              "    <tr>\n",
              "      <th>894</th>\n",
              "      <td>205</td>\n",
              "      <td>68.5</td>\n",
              "      <td>65.0</td>\n",
              "      <td>M</td>\n",
              "      <td>67.7</td>\n",
              "      <td>8</td>\n",
              "      <td>69.35</td>\n",
              "    </tr>\n",
              "    <tr>\n",
              "      <th>895</th>\n",
              "      <td>205</td>\n",
              "      <td>68.5</td>\n",
              "      <td>65.0</td>\n",
              "      <td>F</td>\n",
              "      <td>64.0</td>\n",
              "      <td>8</td>\n",
              "      <td>69.35</td>\n",
              "    </tr>\n",
              "    <tr>\n",
              "      <th>896</th>\n",
              "      <td>205</td>\n",
              "      <td>68.5</td>\n",
              "      <td>65.0</td>\n",
              "      <td>F</td>\n",
              "      <td>63.5</td>\n",
              "      <td>8</td>\n",
              "      <td>69.35</td>\n",
              "    </tr>\n",
              "    <tr>\n",
              "      <th>897</th>\n",
              "      <td>205</td>\n",
              "      <td>68.5</td>\n",
              "      <td>65.0</td>\n",
              "      <td>F</td>\n",
              "      <td>63.0</td>\n",
              "      <td>8</td>\n",
              "      <td>69.35</td>\n",
              "    </tr>\n",
              "  </tbody>\n",
              "</table>\n",
              "<p>898 rows × 7 columns</p>\n",
              "</div>\n",
              "      <button class=\"colab-df-convert\" onclick=\"convertToInteractive('df-1c2f5ce9-4624-4c87-8d12-44aa8a37f98a')\"\n",
              "              title=\"Convert this dataframe to an interactive table.\"\n",
              "              style=\"display:none;\">\n",
              "        \n",
              "  <svg xmlns=\"http://www.w3.org/2000/svg\" height=\"24px\"viewBox=\"0 0 24 24\"\n",
              "       width=\"24px\">\n",
              "    <path d=\"M0 0h24v24H0V0z\" fill=\"none\"/>\n",
              "    <path d=\"M18.56 5.44l.94 2.06.94-2.06 2.06-.94-2.06-.94-.94-2.06-.94 2.06-2.06.94zm-11 1L8.5 8.5l.94-2.06 2.06-.94-2.06-.94L8.5 2.5l-.94 2.06-2.06.94zm10 10l.94 2.06.94-2.06 2.06-.94-2.06-.94-.94-2.06-.94 2.06-2.06.94z\"/><path d=\"M17.41 7.96l-1.37-1.37c-.4-.4-.92-.59-1.43-.59-.52 0-1.04.2-1.43.59L10.3 9.45l-7.72 7.72c-.78.78-.78 2.05 0 2.83L4 21.41c.39.39.9.59 1.41.59.51 0 1.02-.2 1.41-.59l7.78-7.78 2.81-2.81c.8-.78.8-2.07 0-2.86zM5.41 20L4 18.59l7.72-7.72 1.47 1.35L5.41 20z\"/>\n",
              "  </svg>\n",
              "      </button>\n",
              "      \n",
              "  <style>\n",
              "    .colab-df-container {\n",
              "      display:flex;\n",
              "      flex-wrap:wrap;\n",
              "      gap: 12px;\n",
              "    }\n",
              "\n",
              "    .colab-df-convert {\n",
              "      background-color: #E8F0FE;\n",
              "      border: none;\n",
              "      border-radius: 50%;\n",
              "      cursor: pointer;\n",
              "      display: none;\n",
              "      fill: #1967D2;\n",
              "      height: 32px;\n",
              "      padding: 0 0 0 0;\n",
              "      width: 32px;\n",
              "    }\n",
              "\n",
              "    .colab-df-convert:hover {\n",
              "      background-color: #E2EBFA;\n",
              "      box-shadow: 0px 1px 2px rgba(60, 64, 67, 0.3), 0px 1px 3px 1px rgba(60, 64, 67, 0.15);\n",
              "      fill: #174EA6;\n",
              "    }\n",
              "\n",
              "    [theme=dark] .colab-df-convert {\n",
              "      background-color: #3B4455;\n",
              "      fill: #D2E3FC;\n",
              "    }\n",
              "\n",
              "    [theme=dark] .colab-df-convert:hover {\n",
              "      background-color: #434B5C;\n",
              "      box-shadow: 0px 1px 3px 1px rgba(0, 0, 0, 0.15);\n",
              "      filter: drop-shadow(0px 1px 2px rgba(0, 0, 0, 0.3));\n",
              "      fill: #FFFFFF;\n",
              "    }\n",
              "  </style>\n",
              "\n",
              "      <script>\n",
              "        const buttonEl =\n",
              "          document.querySelector('#df-1c2f5ce9-4624-4c87-8d12-44aa8a37f98a button.colab-df-convert');\n",
              "        buttonEl.style.display =\n",
              "          google.colab.kernel.accessAllowed ? 'block' : 'none';\n",
              "\n",
              "        async function convertToInteractive(key) {\n",
              "          const element = document.querySelector('#df-1c2f5ce9-4624-4c87-8d12-44aa8a37f98a');\n",
              "          const dataTable =\n",
              "            await google.colab.kernel.invokeFunction('convertToInteractive',\n",
              "                                                     [key], {});\n",
              "          if (!dataTable) return;\n",
              "\n",
              "          const docLinkHtml = 'Like what you see? Visit the ' +\n",
              "            '<a target=\"_blank\" href=https://colab.research.google.com/notebooks/data_table.ipynb>data table notebook</a>'\n",
              "            + ' to learn more about interactive tables.';\n",
              "          element.innerHTML = '';\n",
              "          dataTable['output_type'] = 'display_data';\n",
              "          await google.colab.output.renderOutput(dataTable, element);\n",
              "          const docLink = document.createElement('div');\n",
              "          docLink.innerHTML = docLinkHtml;\n",
              "          element.appendChild(docLink);\n",
              "        }\n",
              "      </script>\n",
              "    </div>\n",
              "  </div>\n",
              "  "
            ]
          },
          "metadata": {},
          "execution_count": 2
        }
      ]
    },
    {
      "cell_type": "markdown",
      "metadata": {
        "id": "6xkkzZ-u8JKd"
      },
      "source": [
        "#Step 5: Split the data into the target variable and the feature of interest.\n",
        "* We want to predict an adult child's height (`Mother` and `Father`) using the heights of the parents (`MidParent`) and the adult child's gender (`Gender`).         \n",
        "* Select the columns `Mother`, `Father`, and `Gender` from the `heights` DataFrame and name the resulting DataFrame `X`.  \n",
        "* Select the column `Height` from the `heights` DataFrame and name it `y`.  Make sure `y` is also a DataFrame and not a Series.\n",
        "\n",
        "\n",
        "\n"
      ]
    },
    {
      "cell_type": "code",
      "metadata": {
        "id": "Yw0qoF6A8eSD"
      },
      "source": [
        "#Step 5\n",
        "X = heights[['Mother', 'Father', 'Gender']]\n",
        "\n",
        "y = heights[['Height']]"
      ],
      "execution_count": null,
      "outputs": []
    },
    {
      "cell_type": "markdown",
      "metadata": {
        "id": "uYA3VruIGusX"
      },
      "source": [
        "#Step 6: One-hot encode `Gender` \n",
        "* You've done this before, but it doesn't hurt to practice!\n",
        "* Use `pd.get_dummies` to one-hot encode `Gender`.  Assign the results to the variable `one_hot`.\n",
        "* Convert `one_hot` to a Pandas DataFrame and name it `X`.\n",
        "* Now `X` includes our one-hot encoded values of `Gender`.\n",
        "\n",
        "\n",
        "\n"
      ]
    },
    {
      "cell_type": "code",
      "metadata": {
        "id": "_PKHtKF6h-ZZ"
      },
      "source": [
        "#Step 6\n",
        "X = pd.get_dummies(data=X, columns=['Gender'])"
      ],
      "execution_count": null,
      "outputs": []
    },
    {
      "cell_type": "markdown",
      "metadata": {
        "id": "Hb9216Ab8eSN"
      },
      "source": [
        "#Step 7: Split the data into a training/validation dataset and a test dataset\n",
        "* Use `train_test_split` from `sklearn.model_selection`.\n",
        "* Name the X training/validation set `X_train_val` and the y training/validation set `y_train_val`.\n",
        "* Name the X test set `X_test` and the y test set `y_test`.\n",
        "* Set the `test_size = 0.25` and `random_state = 42`. \n",
        "\n",
        "\n",
        "\n",
        "\n"
      ]
    },
    {
      "cell_type": "code",
      "metadata": {
        "id": "mFI_jHpz8eSN"
      },
      "source": [
        "#Step 7\n",
        "X_train_val, X_test, y_train_val, y_test =train_test_split(X, y, test_size=0.25,random_state=42)"
      ],
      "execution_count": null,
      "outputs": []
    },
    {
      "cell_type": "markdown",
      "metadata": {
        "id": "31kJxOUG8eSO"
      },
      "source": [
        "#Step 8: Split the training/validation dataset into a training set and validation set\n",
        "* You've done this before, but it doesn't hurt to practice!\n",
        "* Use `train_test_split` from `sklearn.model_selection` to split `X_train_val` and `y_train_val` into `X_train`, `X_val`, `y_train` and `y_val`.\n",
        "* Set the `test_size = 0.333` (this will be the size of the validation set) and `random_state = 42`.\n",
        "\n",
        "\n",
        "\n"
      ]
    },
    {
      "cell_type": "code",
      "metadata": {
        "id": "eTsbho528eSO"
      },
      "source": [
        "#Step 8\n",
        "X_train, X_val, y_train, y_val =train_test_split(X_train_val, y_train_val, test_size=0.3333,random_state=42)"
      ],
      "execution_count": null,
      "outputs": []
    },
    {
      "cell_type": "markdown",
      "metadata": {
        "id": "S5rkhcFSU8ZS"
      },
      "source": [
        "#Step 9: Fit a linear regression model using sklearn\n",
        "* Instantiate the regression model using sklearn.  Name the resulting model `model`.  Use the format \n",
        "\n",
        "```\n",
        "reg = model name\n",
        "\n",
        "model = reg.fit(X variable, y variable)\n",
        "\n",
        "```\n",
        "\n",
        "* Make sure you are building your model using the training data that we just one-hot encoded.\n",
        "\n",
        "\n",
        "\n",
        "\n",
        "\n"
      ]
    },
    {
      "cell_type": "code",
      "metadata": {
        "id": "EljSRoeINpZm",
        "colab": {
          "base_uri": "https://localhost:8080/"
        },
        "outputId": "b3991ed0-2211-4695-c276-46c2ac1bc34d"
      },
      "source": [
        "#Step 9\n",
        "reg = LinearRegression()\n",
        "\n",
        "model = reg.fit(X_train, y_train)\n",
        "\n",
        "model.score(X_train, y_train)           "
      ],
      "execution_count": null,
      "outputs": [
        {
          "output_type": "execute_result",
          "data": {
            "text/plain": [
              "0.6390857198371704"
            ]
          },
          "metadata": {},
          "execution_count": 7
        }
      ]
    },
    {
      "cell_type": "markdown",
      "metadata": {
        "id": "BjsSw-VKoaGi"
      },
      "source": [
        "#Step 10: Calculate the predicted y values for the training set and validation set using your regression model\n",
        "* Call the predicted values for the training set `y_pred`.  \n",
        "* Call the predicted values for the validation set `y_pred_val`.\n",
        "* Use the format \n",
        "\n",
        "```\n",
        "predicted y = model.predict(X variable)\n",
        "\n",
        "```\n",
        "\n",
        "\n",
        "\n",
        "\n"
      ]
    },
    {
      "cell_type": "code",
      "metadata": {
        "id": "XV9-6b4Zo29y"
      },
      "source": [
        "#Step 10\n",
        "y_pred = model.predict(X)"
      ],
      "execution_count": null,
      "outputs": []
    },
    {
      "cell_type": "markdown",
      "metadata": {
        "id": "Xlu4qsfio-E5"
      },
      "source": [
        "#Step 11: Calculate and interpret the RMSE and R-squared for the model using the training data\n",
        "* Assign the RMSE to the variable `RMSE_train`.  Use the format \n",
        "\n",
        "```\n",
        "RMSE_train = MSE(y observed, y predicted, squared = False)\n",
        "\n",
        "```\n",
        "\n",
        "* Print the value of the RMSE for the model.\n",
        "\n",
        "* Assign the R-squared to the variable `r2_train`.  Use the format\n",
        "\n",
        "```\n",
        "r2_train = r2_score(y observed, y predicted)\n",
        "\n",
        "```\n",
        "* Print the value R-squared for the model.\n",
        "\n",
        "* Interpret the value of RMSE and R-squared for the model.\n",
        "\n",
        "\n"
      ]
    },
    {
      "cell_type": "code",
      "metadata": {
        "id": "MZIa08DJo6eC",
        "colab": {
          "base_uri": "https://localhost:8080/"
        },
        "outputId": "a32d451c-27d5-4aa8-d733-6c73c7c91997"
      },
      "source": [
        "#Step 11\n",
        "RMSE = MSE(y, y_pred, squared = False)\n",
        "RMSE"
      ],
      "execution_count": null,
      "outputs": [
        {
          "output_type": "execute_result",
          "data": {
            "text/plain": [
              "2.1551857930168543"
            ]
          },
          "metadata": {},
          "execution_count": 10
        }
      ]
    },
    {
      "cell_type": "code",
      "source": [
        "r2 = r2_score(y, y_pred)\n",
        "r2"
      ],
      "metadata": {
        "colab": {
          "base_uri": "https://localhost:8080/"
        },
        "id": "J0xRaKz03TPR",
        "outputId": "3191fc69-7081-407f-fb64-5afb44b29e41"
      },
      "execution_count": null,
      "outputs": [
        {
          "output_type": "execute_result",
          "data": {
            "text/plain": [
              "0.6377741226361406"
            ]
          },
          "metadata": {},
          "execution_count": 12
        }
      ]
    },
    {
      "cell_type": "markdown",
      "metadata": {
        "id": "Kkb2ud2LwxZA"
      },
      "source": [
        "#Step 12: Calculate and interpret the RMSE and R-squared for the model using the valdication data\n",
        "* Assign the RMSE to the variable `RMSE_val`.  Use the format \n",
        "\n",
        "```\n",
        "RMSE_val = MSE(y observed, y predicted, squared = False)\n",
        "\n",
        "```\n",
        "\n",
        "* Print the value of the RMSE for the model.\n",
        "\n",
        "* Assign the R-squared to the variable `r2_val`.  Use the format\n",
        "\n",
        "```\n",
        "r2_val = r2_score(y observed, y predicted)\n",
        "\n",
        "```\n",
        "* Print the value R-squared for the model.\n",
        "\n",
        "* Does our model fit the validation data well?\n",
        "\n",
        "\n"
      ]
    },
    {
      "cell_type": "code",
      "metadata": {
        "id": "bjbpGRg32Mxr"
      },
      "source": [
        "#Step 12\n"
      ],
      "execution_count": null,
      "outputs": []
    }
  ]
}