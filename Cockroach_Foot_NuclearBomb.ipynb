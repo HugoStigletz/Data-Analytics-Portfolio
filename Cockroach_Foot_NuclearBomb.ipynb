{
  "nbformat": 4,
  "nbformat_minor": 0,
  "metadata": {
    "colab": {
      "name": "Cockroach/Foot/NuclearBomb",
      "provenance": [],
      "authorship_tag": "ABX9TyMJ4YE4K+9kMJh+KhKdL8wJ",
      "include_colab_link": true
    },
    "kernelspec": {
      "name": "python3",
      "display_name": "Python 3"
    },
    "language_info": {
      "name": "python"
    }
  },
  "cells": [
    {
      "cell_type": "markdown",
      "metadata": {
        "id": "view-in-github",
        "colab_type": "text"
      },
      "source": [
        "<a href=\"https://colab.research.google.com/github/HugoStigletz/Data-Analytics-Portfolio/blob/main/Cockroach_Foot_NuclearBomb.ipynb\" target=\"_parent\"><img src=\"https://colab.research.google.com/assets/colab-badge.svg\" alt=\"Open In Colab\"/></a>"
      ]
    },
    {
      "cell_type": "code",
      "execution_count": 1,
      "metadata": {
        "id": "OoxfoxYK20yJ"
      },
      "outputs": [],
      "source": [
        "fighters = ['cockroach', 'foot', 'nuclear_bomb']"
      ]
    },
    {
      "cell_type": "code",
      "source": [
        "#The play game function will run the whole game with the fighters input as a list of strings.\n",
        "def play_game(fighters):\n",
        "  input(\"Welcome to your game! Press Enter to start.\")\n",
        "  print()\n",
        "\n",
        "#Starts the counters at zero.\n",
        "  user_wins = 0\n",
        "  computer_wins = 0 \n",
        "\n",
        "  while True:\n",
        "    random_index = random.randint(0,2)\n",
        "    comp_choice = fighters[random_index]\n",
        "\n",
        "#Fill in the three with your chosen fighters. We use .lower() to make all the letters lowercase to avoid errors \n",
        "#for the user if they input choices with/without a capital letter.\n",
        "    user_choice = input('cockroach', 'foot', 'nuclear_bomb').lower()\n",
        "    while user_choice not in fighters:\n",
        "      user_choice = input(\"That is not a valid choice. Please try again: \").lower()\n",
        "  \n",
        "    print()\n",
        "    print(\"Your choice:\", user_choice)\n",
        "    print(\"Computer's choice:\", comp_choice)\n",
        "    print()\n",
        "\n",
        "    #All the scenarios where user choice is [first fighter].\n",
        "    if user_choice == 'foot':\n",
        "      if comp_choice == 'foot':\n",
        "        print(\"It's a tie!\")\n",
        "      elif comp_choice == 'cockroach':\n",
        "        print(\"You win!\")\n",
        "        user_wins+=1\n",
        "      elif comp_choice == 'nuclear_bomb':\n",
        "        print(\"You lose!\")\n",
        "        computer_wins+=1\n",
        "    #All the scenarios where user choice is [second fighter].\n",
        "    elif user_choice == 'cockroach':\n",
        "      if comp_choice == 'cockroach':\n",
        "        print(\"It's a tie!\")\n",
        "      elif comp_choice == 'nuclear_bomb':\n",
        "        print(\"You win!\")\n",
        "        user_wins+=1\n",
        "      elif comp_choice == 'foot':\n",
        "        print(\"You lose!\")\n",
        "        computer_wins+=1\n",
        "    #All the scenarios where user choice is [third fighter].\n",
        "    elif user_choice == 'nuclear_bomb':\n",
        "      if comp_choice == 'nuclear_bomb':\n",
        "        print(\"It's a tie!\")\n",
        "      elif comp_choice == 'foot':\n",
        "        print(\"You win!\")\n",
        "        user_wins+=1\n",
        "      elif comp_choice == 'cockroach':\n",
        "        print(\"You lose!\")\n",
        "        computer_wins+=1\n",
        "\n",
        "    print()\n",
        "    print(\"You have \"+str(user_wins)+\" wins\")\n",
        "    print(\"The computer has \"+str(computer_wins)+\" wins\")\n",
        "    print()\n",
        "\n",
        "    again = input(\"Play again? (Y/N) \").lower()\n",
        "    while again not in ['y', 'n']:\n",
        "      again = input(\"That is not a valid choice. Please try again: \").lower()\n",
        "  \n",
        "    if again == 'n':\n",
        "      break\n",
        "\n",
        "    print(\"\\n----------------------------\\n\")"
      ],
      "metadata": {
        "id": "cgTPVd9XoApL"
      },
      "execution_count": 2,
      "outputs": []
    },
    {
      "cell_type": "code",
      "source": [
        "play_game\n"
      ],
      "metadata": {
        "colab": {
          "base_uri": "https://localhost:8080/",
          "height": 182
        },
        "id": "zDtN8dszoFnn",
        "outputId": "6df21fa3-55b7-4bf8-c6bf-bec28400cebb"
      },
      "execution_count": 4,
      "outputs": [
        {
          "output_type": "error",
          "ename": "NameError",
          "evalue": "ignored",
          "traceback": [
            "\u001b[0;31m---------------------------------------------------------------------------\u001b[0m",
            "\u001b[0;31mNameError\u001b[0m                                 Traceback (most recent call last)",
            "\u001b[0;32m<ipython-input-4-6d4ebb8d849c>\u001b[0m in \u001b[0;36m<module>\u001b[0;34m()\u001b[0m\n\u001b[1;32m      1\u001b[0m \u001b[0mplay_game\u001b[0m\u001b[0;34m\u001b[0m\u001b[0;34m\u001b[0m\u001b[0m\n\u001b[0;32m----> 2\u001b[0;31m \u001b[0mcockroach\u001b[0m\u001b[0;34m\u001b[0m\u001b[0;34m\u001b[0m\u001b[0m\n\u001b[0m",
            "\u001b[0;31mNameError\u001b[0m: name 'cockroach' is not defined"
          ]
        }
      ]
    }
  ]
}