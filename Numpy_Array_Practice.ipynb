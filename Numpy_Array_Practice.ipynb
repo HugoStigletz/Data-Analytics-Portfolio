{
  "nbformat": 4,
  "nbformat_minor": 0,
  "metadata": {
    "colab": {
      "name": "Numpy_Array_Practice",
      "provenance": [],
      "authorship_tag": "ABX9TyOYPBib8EkTvkpb21pbjIKI",
      "include_colab_link": true
    },
    "kernelspec": {
      "name": "python3",
      "display_name": "Python 3"
    },
    "language_info": {
      "name": "python"
    }
  },
  "cells": [
    {
      "cell_type": "markdown",
      "metadata": {
        "id": "view-in-github",
        "colab_type": "text"
      },
      "source": [
        "<a href=\"https://colab.research.google.com/github/HugoStigletz/Data-Analytics-Portfolio/blob/main/Numpy_Array_Practice.ipynb\" target=\"_parent\"><img src=\"https://colab.research.google.com/assets/colab-badge.svg\" alt=\"Open In Colab\"/></a>"
      ]
    },
    {
      "cell_type": "code",
      "source": [
        "import numpy as np"
      ],
      "metadata": {
        "id": "pdUqDmHCdHBz"
      },
      "execution_count": 1,
      "outputs": []
    },
    {
      "cell_type": "code",
      "source": [
        "my_array = np.arange(8)\n",
        "my_array = np.arange(1, 8)\n",
        "my_array = np.arange(-1, 9.25, 2)\n",
        "my_array"
      ],
      "metadata": {
        "colab": {
          "base_uri": "https://localhost:8080/"
        },
        "id": "VjWRU-btdJke",
        "outputId": "a4ad401c-65d0-486b-a523-e1cbcc6aa3f9"
      },
      "execution_count": 10,
      "outputs": [
        {
          "output_type": "execute_result",
          "data": {
            "text/plain": [
              "array([-1.,  1.,  3.,  5.,  7.,  9.])"
            ]
          },
          "metadata": {},
          "execution_count": 10
        }
      ]
    },
    {
      "cell_type": "code",
      "source": [
        "#arrays from lists\n",
        "from_list = np.array([1,2,3], dtype=np.int8)\n",
        "from_list"
      ],
      "metadata": {
        "colab": {
          "base_uri": "https://localhost:8080/"
        },
        "id": "HulifOMZeMPK",
        "outputId": "48c249b2-0859-4313-adc0-7df7d9dea8d5"
      },
      "execution_count": 15,
      "outputs": [
        {
          "output_type": "execute_result",
          "data": {
            "text/plain": [
              "array([1, 2, 3], dtype=int8)"
            ]
          },
          "metadata": {},
          "execution_count": 15
        }
      ]
    },
    {
      "cell_type": "code",
      "source": [
        "# 2D arrays\n",
        "from_list = np.array([[1,2,3], [4,5,6]], dtype=np.int8)\n",
        "array_2nd = np.array((np.arange(0,8,2,), np.arange(1,8,2)))\n",
        "\"1D shape:\", my_array.shape"
      ],
      "metadata": {
        "colab": {
          "base_uri": "https://localhost:8080/"
        },
        "id": "B1DNOu5GfKYf",
        "outputId": "64e9c1b5-ae26-407f-fad0-2d514e44cc25"
      },
      "execution_count": 24,
      "outputs": [
        {
          "output_type": "execute_result",
          "data": {
            "text/plain": [
              "('1D shape:', (6,))"
            ]
          },
          "metadata": {},
          "execution_count": 24
        }
      ]
    },
    {
      "cell_type": "code",
      "source": [
        "\"2D shape:\", array_2nd.shape"
      ],
      "metadata": {
        "colab": {
          "base_uri": "https://localhost:8080/"
        },
        "id": "rjAlrwvzgwrW",
        "outputId": "985977a7-78d3-4f22-f4ff-4dcff7a78c92"
      },
      "execution_count": 23,
      "outputs": [
        {
          "output_type": "execute_result",
          "data": {
            "text/plain": [
              "('2D shape:', (2, 4))"
            ]
          },
          "metadata": {},
          "execution_count": 23
        }
      ]
    },
    {
      "cell_type": "code",
      "source": [
        "# convert to 2 columns and 4 rows\n",
        "array_2d = array_2nd.reshape((4, 2))\n",
        "# return to rows\n",
        "array_2d = array_2nd.reshape((2, 1, 4))\n",
        "array_2d"
      ],
      "metadata": {
        "colab": {
          "base_uri": "https://localhost:8080/"
        },
        "id": "VHZmcIZ3g_X4",
        "outputId": "a4956508-e50d-4a46-a3b9-739c6d50e80e"
      },
      "execution_count": 26,
      "outputs": [
        {
          "output_type": "execute_result",
          "data": {
            "text/plain": [
              "array([[[0, 2, 4, 6]],\n",
              "\n",
              "       [[1, 3, 5, 7]]])"
            ]
          },
          "metadata": {},
          "execution_count": 26
        }
      ]
    },
    {
      "cell_type": "code",
      "source": [
        "#empty arrays\n",
        "empty_array = np.zeros((2,2))\n",
        "empty_array"
      ],
      "metadata": {
        "colab": {
          "base_uri": "https://localhost:8080/"
        },
        "id": "Wk6tct24h7Gu",
        "outputId": "91c88675-0ec6-493a-b93f-0b4e0b2675c6"
      },
      "execution_count": 28,
      "outputs": [
        {
          "output_type": "execute_result",
          "data": {
            "text/plain": [
              "array([[0., 0.],\n",
              "       [0., 0.]])"
            ]
          },
          "metadata": {},
          "execution_count": 28
        }
      ]
    },
    {
      "cell_type": "code",
      "source": [
        "#empty arrays\n",
        "empty_array = np.ones((8,8))\n",
        "empty_array"
      ],
      "metadata": {
        "colab": {
          "base_uri": "https://localhost:8080/"
        },
        "id": "k7P91saliX5x",
        "outputId": "29e325f3-9017-4bd2-d0c3-7bdcb2fdc323"
      },
      "execution_count": 30,
      "outputs": [
        {
          "output_type": "execute_result",
          "data": {
            "text/plain": [
              "array([[1., 1., 1., 1., 1., 1., 1., 1.],\n",
              "       [1., 1., 1., 1., 1., 1., 1., 1.],\n",
              "       [1., 1., 1., 1., 1., 1., 1., 1.],\n",
              "       [1., 1., 1., 1., 1., 1., 1., 1.],\n",
              "       [1., 1., 1., 1., 1., 1., 1., 1.],\n",
              "       [1., 1., 1., 1., 1., 1., 1., 1.],\n",
              "       [1., 1., 1., 1., 1., 1., 1., 1.],\n",
              "       [1., 1., 1., 1., 1., 1., 1., 1.]])"
            ]
          },
          "metadata": {},
          "execution_count": 30
        }
      ]
    },
    {
      "cell_type": "code",
      "source": [
        "eye_array = np.eye(3)\n",
        "eye_array"
      ],
      "metadata": {
        "colab": {
          "base_uri": "https://localhost:8080/"
        },
        "id": "DKtuXifaikFX",
        "outputId": "4497f040-ce3d-4caf-f4fc-fd8b4cbb6365"
      },
      "execution_count": 31,
      "outputs": [
        {
          "output_type": "execute_result",
          "data": {
            "text/plain": [
              "array([[1., 0., 0.],\n",
              "       [0., 1., 0.],\n",
              "       [0., 0., 1.]])"
            ]
          },
          "metadata": {},
          "execution_count": 31
        }
      ]
    },
    {
      "cell_type": "code",
      "source": [
        "# will move one diagonal below / (k=1 will go up one diagonal)\n",
        "eye_array = np.eye(3, k=-1)\n",
        "eye_array"
      ],
      "metadata": {
        "colab": {
          "base_uri": "https://localhost:8080/"
        },
        "id": "YbClsBGmi6i1",
        "outputId": "2580cbc0-70bb-4300-df10-2a19d98d6b87"
      },
      "execution_count": 34,
      "outputs": [
        {
          "output_type": "execute_result",
          "data": {
            "text/plain": [
              "array([[0., 0., 0.],\n",
              "       [1., 0., 0.],\n",
              "       [0., 1., 0.]])"
            ]
          },
          "metadata": {},
          "execution_count": 34
        }
      ]
    },
    {
      "cell_type": "code",
      "source": [
        "#set values to to 0\n",
        "eye_array[eye_array == 0] = 2\n",
        "eye_array"
      ],
      "metadata": {
        "colab": {
          "base_uri": "https://localhost:8080/"
        },
        "id": "QlIVqB85jULE",
        "outputId": "c750d2f2-5310-42e8-8bd4-dd13eb8c19db"
      },
      "execution_count": 36,
      "outputs": [
        {
          "output_type": "execute_result",
          "data": {
            "text/plain": [
              "array([[2., 2., 2.],\n",
              "       [1., 2., 2.],\n",
              "       [2., 1., 2.]])"
            ]
          },
          "metadata": {},
          "execution_count": 36
        }
      ]
    },
    {
      "cell_type": "code",
      "source": [
        "eye_array[eye_array < 2] =9\n",
        "eye_array"
      ],
      "metadata": {
        "colab": {
          "base_uri": "https://localhost:8080/"
        },
        "id": "MTKSvH2RjfN2",
        "outputId": "25ff607f-8cd1-4be8-de0a-0870df531c71"
      },
      "execution_count": 38,
      "outputs": [
        {
          "output_type": "execute_result",
          "data": {
            "text/plain": [
              "array([[2., 2., 2.],\n",
              "       [9., 2., 2.],\n",
              "       [2., 9., 2.]])"
            ]
          },
          "metadata": {},
          "execution_count": 38
        }
      ]
    },
    {
      "cell_type": "code",
      "source": [
        "#set the first row value\n",
        "eye_array[0] = 3\n",
        "eye_array"
      ],
      "metadata": {
        "colab": {
          "base_uri": "https://localhost:8080/"
        },
        "id": "ePFDo_6xjrlh",
        "outputId": "025a3294-1061-41aa-b33f-169a964fefe2"
      },
      "execution_count": 39,
      "outputs": [
        {
          "output_type": "execute_result",
          "data": {
            "text/plain": [
              "array([[3., 3., 3.],\n",
              "       [9., 2., 2.],\n",
              "       [2., 9., 2.]])"
            ]
          },
          "metadata": {},
          "execution_count": 39
        }
      ]
    },
    {
      "cell_type": "code",
      "source": [
        "#select first 2 rows\n",
        "eye_array[:2] =3\n",
        "eye_array"
      ],
      "metadata": {
        "colab": {
          "base_uri": "https://localhost:8080/"
        },
        "id": "gK_wyswfj2oD",
        "outputId": "e29b68b6-ea97-4db0-bcd8-6b40cfd1b3a8"
      },
      "execution_count": 40,
      "outputs": [
        {
          "output_type": "execute_result",
          "data": {
            "text/plain": [
              "array([[3., 3., 3.],\n",
              "       [3., 3., 3.],\n",
              "       [2., 9., 2.]])"
            ]
          },
          "metadata": {},
          "execution_count": 40
        }
      ]
    },
    {
      "cell_type": "code",
      "source": [
        "# a 1 in a slicing command will select all \n",
        "eye_array[1:] = 3\n",
        "eye_array"
      ],
      "metadata": {
        "colab": {
          "base_uri": "https://localhost:8080/"
        },
        "id": "yMUvAz-ZkLeQ",
        "outputId": "a5fa795f-984c-4b7f-8284-982135fad29f"
      },
      "execution_count": 41,
      "outputs": [
        {
          "output_type": "execute_result",
          "data": {
            "text/plain": [
              "array([[3., 3., 3.],\n",
              "       [3., 3., 3.],\n",
              "       [3., 3., 3.]])"
            ]
          },
          "metadata": {},
          "execution_count": 41
        }
      ]
    },
    {
      "cell_type": "code",
      "source": [
        "# select the first column\n",
        "eye_array[:, 0] = 4\n",
        "eye_array"
      ],
      "metadata": {
        "colab": {
          "base_uri": "https://localhost:8080/"
        },
        "id": "D_LDHrdkkfbw",
        "outputId": "f0659237-2d6e-4394-f3b5-3e3352535b64"
      },
      "execution_count": 42,
      "outputs": [
        {
          "output_type": "execute_result",
          "data": {
            "text/plain": [
              "array([[4., 3., 3.],\n",
              "       [4., 3., 3.],\n",
              "       [4., 3., 3.]])"
            ]
          },
          "metadata": {},
          "execution_count": 42
        }
      ]
    },
    {
      "cell_type": "code",
      "source": [
        "# set last column to 4\n",
        "eye_array[:, -1] = 4\n",
        "eye_array"
      ],
      "metadata": {
        "colab": {
          "base_uri": "https://localhost:8080/"
        },
        "id": "qg2INeuFkwwI",
        "outputId": "a0990f47-5ce1-4871-b394-fb31ade7956e"
      },
      "execution_count": 43,
      "outputs": [
        {
          "output_type": "execute_result",
          "data": {
            "text/plain": [
              "array([[4., 3., 4.],\n",
              "       [4., 3., 4.],\n",
              "       [4., 3., 4.]])"
            ]
          },
          "metadata": {},
          "execution_count": 43
        }
      ]
    },
    {
      "cell_type": "code",
      "source": [
        "# select the last 2 rows and first two clumns \n",
        "eye_array[1:, :2] = 9\n",
        "eye_array"
      ],
      "metadata": {
        "colab": {
          "base_uri": "https://localhost:8080/"
        },
        "id": "o17lNisSlAjn",
        "outputId": "994b3164-fe40-4456-c770-f14599d9143c"
      },
      "execution_count": 45,
      "outputs": [
        {
          "output_type": "execute_result",
          "data": {
            "text/plain": [
              "array([[4., 3., 4.],\n",
              "       [9., 9., 4.],\n",
              "       [9., 9., 4.]])"
            ]
          },
          "metadata": {},
          "execution_count": 45
        }
      ]
    },
    {
      "cell_type": "code",
      "source": [
        "# this will arange from the smallest to largest number\n",
        "eye_array, \"\\n\"\n",
        "sorted_array = np.sort(eye_array)\n",
        "sorted_array"
      ],
      "metadata": {
        "colab": {
          "base_uri": "https://localhost:8080/"
        },
        "id": "-NeVxTokltU4",
        "outputId": "d891820d-61e0-4e35-8adb-8d0b0d183d01"
      },
      "execution_count": 46,
      "outputs": [
        {
          "output_type": "execute_result",
          "data": {
            "text/plain": [
              "array([[3., 4., 4.],\n",
              "       [4., 9., 9.],\n",
              "       [4., 9., 9.]])"
            ]
          },
          "metadata": {},
          "execution_count": 46
        }
      ]
    },
    {
      "cell_type": "code",
      "source": [
        "# with axis=0 we are now aranging by column\n",
        "eye_array, \"\\n\"\n",
        "sorted_array = np.sort(eye_array, axis=0)\n",
        "sorted_array"
      ],
      "metadata": {
        "colab": {
          "base_uri": "https://localhost:8080/"
        },
        "id": "O0QSMFhxmZd0",
        "outputId": "04e6729e-3501-4714-fc07-e394fa8a781a"
      },
      "execution_count": 47,
      "outputs": [
        {
          "output_type": "execute_result",
          "data": {
            "text/plain": [
              "array([[4., 3., 4.],\n",
              "       [9., 9., 4.],\n",
              "       [9., 9., 4.]])"
            ]
          },
          "metadata": {},
          "execution_count": 47
        }
      ]
    },
    {
      "cell_type": "code",
      "source": [
        "# \"MERGESORT\" or \"HEAPSORT\" could result in faster calc. when dealing with much larger data\n",
        "eye_array, \"\\n\"\n",
        "sorted_array = np.sort(eye_array, axis=0, kind=\"mergesort\")\n",
        "sorted_array"
      ],
      "metadata": {
        "colab": {
          "base_uri": "https://localhost:8080/"
        },
        "id": "5h13YABWmxiG",
        "outputId": "5e256929-e6f0-4b31-aa4b-6f82cf5090b9"
      },
      "execution_count": 48,
      "outputs": [
        {
          "output_type": "execute_result",
          "data": {
            "text/plain": [
              "array([[4., 3., 4.],\n",
              "       [9., 9., 4.],\n",
              "       [9., 9., 4.]])"
            ]
          },
          "metadata": {},
          "execution_count": 48
        }
      ]
    },
    {
      "cell_type": "code",
      "source": [
        "#copy arrays\n",
        "my_view = sorted_array.view()\n",
        "my_copy = sorted_array.copy()\n",
        "\n",
        "my_view[:] = 4\n",
        "my_view, \"\\n\"\n",
        "sorted_array"
      ],
      "metadata": {
        "colab": {
          "base_uri": "https://localhost:8080/"
        },
        "id": "KVuv0lNqnOSQ",
        "outputId": "e0159429-b434-4040-a11b-ad92e96fc708"
      },
      "execution_count": 49,
      "outputs": [
        {
          "output_type": "execute_result",
          "data": {
            "text/plain": [
              "array([[4., 4., 4.],\n",
              "       [4., 4., 4.],\n",
              "       [4., 4., 4.]])"
            ]
          },
          "metadata": {},
          "execution_count": 49
        }
      ]
    },
    {
      "cell_type": "code",
      "source": [
        "my_copy = sorted_array.copy()\n",
        "my_copy"
      ],
      "metadata": {
        "colab": {
          "base_uri": "https://localhost:8080/"
        },
        "id": "zU6psFJ2nsz6",
        "outputId": "6490f6d4-759e-4c1f-f56d-5924c6a81f12"
      },
      "execution_count": 50,
      "outputs": [
        {
          "output_type": "execute_result",
          "data": {
            "text/plain": [
              "array([[4., 4., 4.],\n",
              "       [4., 4., 4.],\n",
              "       [4., 4., 4.]])"
            ]
          },
          "metadata": {},
          "execution_count": 50
        }
      ]
    },
    {
      "cell_type": "code",
      "source": [
        "my_view"
      ],
      "metadata": {
        "colab": {
          "base_uri": "https://localhost:8080/"
        },
        "id": "vabiFCZFnwJz",
        "outputId": "7f594943-1043-4a7e-a8ff-4cb05a945525"
      },
      "execution_count": 51,
      "outputs": [
        {
          "output_type": "execute_result",
          "data": {
            "text/plain": [
              "array([[4., 4., 4.],\n",
              "       [4., 4., 4.],\n",
              "       [4., 4., 4.]])"
            ]
          },
          "metadata": {},
          "execution_count": 51
        }
      ]
    }
  ]
}